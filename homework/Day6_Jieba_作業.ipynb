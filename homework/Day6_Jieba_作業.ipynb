{
  "nbformat": 4,
  "nbformat_minor": 0,
  "metadata": {
    "kernelspec": {
      "name": "python3",
      "display_name": "Python 3"
    },
    "colab": {
      "name": "Day6_Jieba_作業.ipynb",
      "provenance": [],
      "collapsed_sections": [],
      "include_colab_link": true
    }
  },
  "cells": [
    {
      "cell_type": "markdown",
      "metadata": {
        "id": "view-in-github",
        "colab_type": "text"
      },
      "source": [
        "<a href=\"https://colab.research.google.com/github/PatrickRuan/NLP_100/blob/main/homework/Day6_Jieba_%E4%BD%9C%E6%A5%AD.ipynb\" target=\"_parent\"><img src=\"https://colab.research.google.com/assets/colab-badge.svg\" alt=\"Open In Colab\"/></a>"
      ]
    },
    {
      "cell_type": "markdown",
      "metadata": {
        "id": "IzRv_IGkxEDQ"
      },
      "source": [
        "## 作業目標: 使用Jieba進行各項的斷詞操作\n",
        "\n",
        "這份作業我們會使用中文飯店評論資料集來作為斷詞練習。 [資料集:ChnSentiCorp_htl_all](https://github.com/SophonPlus/ChineseNlpCorpus)"
      ]
    },
    {
      "cell_type": "markdown",
      "metadata": {
        "id": "_L8idkZyxEDW"
      },
      "source": [
        "### 讀入文本資料"
      ]
    },
    {
      "cell_type": "code",
      "metadata": {
        "id": "G0fWMXRLxW7E",
        "outputId": "658fbffa-80fc-460c-c3c6-d05e63fe9720",
        "colab": {
          "base_uri": "https://localhost:8080/"
        }
      },
      "source": [
        "from google.colab import drive\n",
        "drive.mount('/content/drive/')\n",
        "path = 'drive/My Drive/學習/Cupoy/NLP_Cupoy_Pre/d006/'\n",
        "!cp -r drive/'My Drive'/學習/Cupoy/NLP_Cupoy_Pre/d006/*.* .\n",
        "\n",
        "import pandas as pd\n",
        "pd_corpus = pd.read_csv('ChnSentiCorp_htl_all.csv')\n",
        "pd_corpus.count"
      ],
      "execution_count": 1,
      "outputs": [
        {
          "output_type": "stream",
          "text": [
            "Mounted at /content/drive/\n"
          ],
          "name": "stdout"
        },
        {
          "output_type": "execute_result",
          "data": {
            "text/plain": [
              "<bound method DataFrame.count of       label                                             review\n",
              "0         1  距离川沙公路较近,但是公交指示不对,如果是\"蔡陆线\"的话,会非常麻烦.建议用别的路线.房间较...\n",
              "1         1                       商务大床房，房间很大，床有2M宽，整体感觉经济实惠不错!\n",
              "2         1         早餐太差，无论去多少人，那边也不加食品的。酒店应该重视一下这个问题了。房间本身很好。\n",
              "3         1  宾馆在小街道上，不大好找，但还好北京热心同胞很多~宾馆设施跟介绍的差不多，房间很小，确实挺小...\n",
              "4         1               CBD中心,周围没什么店铺,说5星有点勉强.不知道为什么卫生间没有电吹风\n",
              "...     ...                                                ...\n",
              "7761      0  尼斯酒店的几大特点：噪音大、环境差、配置低、服务效率低。如：1、隔壁歌厅的声音闹至午夜3点许...\n",
              "7762      0  盐城来了很多次，第一次住盐阜宾馆，我的确很失望整个墙壁黑咕隆咚的，好像被烟熏过一样家具非常的...\n",
              "7763      0  看照片觉得还挺不错的，又是4星级的，但入住以后除了后悔没有别的，房间挺大但空空的，早餐是有但...\n",
              "7764      0  我们去盐城的时候那里的最低气温只有4度，晚上冷得要死，居然还不开空调，投诉到酒店客房部，得到...\n",
              "7765      0  说实在的我很失望，之前看了其他人的点评后觉得还可以才去的，结果让我们大跌眼镜。我想这家酒店以...\n",
              "\n",
              "[7766 rows x 2 columns]>"
            ]
          },
          "metadata": {
            "tags": []
          },
          "execution_count": 1
        }
      ]
    },
    {
      "cell_type": "code",
      "metadata": {
        "id": "yORfw8IhxEDl"
      },
      "source": [
        "#移除缺失值\n",
        "###<your code>###\n",
        "\n",
        "pd_corpus.dropna(inplace=True)"
      ],
      "execution_count": 2,
      "outputs": []
    },
    {
      "cell_type": "code",
      "metadata": {
        "id": "Wsl7i1JExEDh",
        "outputId": "4a836e04-5695-4191-fe70-e7150ad64147",
        "colab": {
          "base_uri": "https://localhost:8080/"
        }
      },
      "source": [
        "#確認所有留言,正評價(label=1)與負評價數量(label=0)\n",
        "pd_positive = pd_corpus[pd_corpus['label']==1].count()['label']\n",
        "pd_negative = pd_corpus[pd_corpus['label']==0].count()['label']\n",
        "#print(f'Total: {len(pd_corpus)}, Positive: {len(pd_positive)}, Negative: {len(pd_negative)}')\n",
        "print(f'Total: {len(pd_corpus)}, Positive: {pd_positive}, Negative: {pd_negative}')"
      ],
      "execution_count": 3,
      "outputs": [
        {
          "output_type": "stream",
          "text": [
            "Total: 7765, Positive: 5322, Negative: 2443\n"
          ],
          "name": "stdout"
        }
      ]
    },
    {
      "cell_type": "markdown",
      "metadata": {
        "id": "ta6_0GNwxEDr"
      },
      "source": [
        "### 建構結巴斷詞Function\n",
        "\n",
        "建構可將讀入的Pandas DataFrame的文本資料，外加一欄名為`cut`的review欄位斷詞結果"
      ]
    },
    {
      "cell_type": "code",
      "metadata": {
        "id": "KImhHu0NxEDs"
      },
      "source": [
        "import jieba"
      ],
      "execution_count": 4,
      "outputs": []
    },
    {
      "cell_type": "markdown",
      "metadata": {
        "id": "J8jCLW6K7O-i"
      },
      "source": [
        "class JiebaCutingClass\n",
        "- 把四種 modes 全包 包含了 paddle, 所以在__init__ 就 enable所以在 __init__ 就 enable\n",
        "\n",
        "- 建立物件時給的是 要用那一欄位切割\n",
        "- 應用時是 JiebaCutingClass應用時是 JiebaCutingClass.cut_corpus 因為 jieba 提供四種模式 所以我們也要求模式參數，我是預設為 'precise'\n",
        "  - 由 mode 會去 call cut_由 mode 會去 call 四種 self._mode.cut\n",
        "    - 在 self._mode_cut 下會完成 sentences 的分割, \n",
        "    - 然後送到 cut_single_sentence 去作 jieba.use_search or other 3 modes jieba.cut\n",
        "\n",
        "\n"
      ]
    },
    {
      "cell_type": "code",
      "metadata": {
        "id": "5WgJt59XA7oF",
        "outputId": "70f6cd00-993b-46f6-c83e-ca47f73938e0",
        "colab": {
          "base_uri": "https://localhost:8080/",
          "height": 289
        }
      },
      "source": [
        "# 完全重刻\n",
        "\n",
        "class JiebaCutingClass(object):\n",
        "  def __init__(self, column: str, dic:str = None, userdict: str = None):\n",
        "    if dic is not None:\n",
        "      jieba.set_dictionary(dic)\n",
        "    if userdict is not None:\n",
        "      jieba.load_userdict(userdict)\n",
        "    self.column = column\n",
        "\n",
        "  #@staticmethod # cut_single_sentence 會在\n",
        "  def cut_single_sentence(sentence, paddle = False, full = False, search = False):\n",
        "    if search:\n",
        "      out = jieba.cut_for_search(sentence)\n",
        "    else:\n",
        "      out = jieba.cut(sentence, use_paddle=paddle, cut_all = full)\n",
        "    return out\n",
        "\n",
        "  def cut_corpus(self, dataframe: pd.DataFrame, mode: str):\n",
        "    if mode == 'precise':\n",
        "      out = self._precise(dataframe)\n",
        "    elif mode == 'full':\n",
        "      out = self._full(dataframe)\n",
        "      \n",
        "    elif mode == 'paddle':\n",
        "      out = self._paddle(dataframe)\n",
        "    elif mode == 'search':\n",
        "      out = self._search(dataframe)\n",
        "    return out\n",
        "    \n",
        "  def _precise(self, dataframe):\n",
        "    out = []\n",
        "    for i in dataframe[self.column]:\n",
        "      out.append([word for word in self.cut_single_sentence(i)])    \n",
        "    dataframe['cut'] = out \n",
        "    return dataframe\n",
        "\n",
        "  def _full(self, dataframe):\n",
        "    out = []\n",
        "    for i in dataframe[self.column]:\n",
        "      out.append([word for word in JiebaCutingClass.cut_single_sentence(sentence = i, full= True)])  \n",
        "    dataframe['cut'] = out \n",
        "    return dataframe\n",
        "    \n",
        "  def _paddle(self, dataframe):\n",
        "    jieba.enable_paddle()\n",
        "    out = []\n",
        "    for i in dataframe[self.column]:\n",
        "      out.append([word for word in self.cut_single_sentence(i, paddle= True)])    \n",
        "    dataframe['cut'] = out \n",
        "    return dataframe\n",
        "  def _search(self, dataframe):\n",
        "    out = []\n",
        "    for i in dataframe[self.column]:\n",
        "      out.append([word for word in self.cut_single_sentence(i, search= True)])    \n",
        "    dataframe['cut'] = out \n",
        "    return dataframe\n",
        "    \n",
        "      \n",
        "\n",
        "### 請使用精確模式與預設字典對文本進行斷詞\n",
        "\n",
        "jieba_cut = JiebaCutingClass(column='review')\n",
        "\n",
        "pd_cut = jieba_cut.cut_corpus(pd_corpus.loc[:5, :], mode='full') #為了避免處理時間過久, 這裡我們只使用前50個進行斷詞\n",
        "pd_cut.head()"
      ],
      "execution_count": 29,
      "outputs": [
        {
          "output_type": "stream",
          "text": [
            "/usr/local/lib/python3.6/dist-packages/ipykernel_launcher.py:40: SettingWithCopyWarning: \n",
            "A value is trying to be set on a copy of a slice from a DataFrame.\n",
            "Try using .loc[row_indexer,col_indexer] = value instead\n",
            "\n",
            "See the caveats in the documentation: https://pandas.pydata.org/pandas-docs/stable/user_guide/indexing.html#returning-a-view-versus-a-copy\n"
          ],
          "name": "stderr"
        },
        {
          "output_type": "execute_result",
          "data": {
            "text/html": [
              "<div>\n",
              "<style scoped>\n",
              "    .dataframe tbody tr th:only-of-type {\n",
              "        vertical-align: middle;\n",
              "    }\n",
              "\n",
              "    .dataframe tbody tr th {\n",
              "        vertical-align: top;\n",
              "    }\n",
              "\n",
              "    .dataframe thead th {\n",
              "        text-align: right;\n",
              "    }\n",
              "</style>\n",
              "<table border=\"1\" class=\"dataframe\">\n",
              "  <thead>\n",
              "    <tr style=\"text-align: right;\">\n",
              "      <th></th>\n",
              "      <th>label</th>\n",
              "      <th>review</th>\n",
              "      <th>cut</th>\n",
              "    </tr>\n",
              "  </thead>\n",
              "  <tbody>\n",
              "    <tr>\n",
              "      <th>0</th>\n",
              "      <td>1</td>\n",
              "      <td>距离川沙公路较近,但是公交指示不对,如果是\"蔡陆线\"的话,会非常麻烦.建议用别的路线.房间较...</td>\n",
              "      <td>[距离, 川沙, 公路, 较, 近, ,, 但是, 公交, 指示, 不对, ,, 如果, 是...</td>\n",
              "    </tr>\n",
              "    <tr>\n",
              "      <th>1</th>\n",
              "      <td>1</td>\n",
              "      <td>商务大床房，房间很大，床有2M宽，整体感觉经济实惠不错!</td>\n",
              "      <td>[商务, 大, 床, 房, ，, 房间, 很大, ，, 床, 有, 2M, 宽, ，, 整体...</td>\n",
              "    </tr>\n",
              "    <tr>\n",
              "      <th>2</th>\n",
              "      <td>1</td>\n",
              "      <td>早餐太差，无论去多少人，那边也不加食品的。酒店应该重视一下这个问题了。房间本身很好。</td>\n",
              "      <td>[早餐, 太差, ，, 无论, 去, 多少, 人, ，, 那边, 也, 不加, 食品, 的,...</td>\n",
              "    </tr>\n",
              "    <tr>\n",
              "      <th>3</th>\n",
              "      <td>1</td>\n",
              "      <td>宾馆在小街道上，不大好找，但还好北京热心同胞很多~宾馆设施跟介绍的差不多，房间很小，确实挺小...</td>\n",
              "      <td>[宾馆, 在, 小街, 街道, 上, ，, 不大, 不大好, 大好, 好找, ，, 但, 还...</td>\n",
              "    </tr>\n",
              "    <tr>\n",
              "      <th>4</th>\n",
              "      <td>1</td>\n",
              "      <td>CBD中心,周围没什么店铺,说5星有点勉强.不知道为什么卫生间没有电吹风</td>\n",
              "      <td>[CBD, 中心, ,, 周围, 没什么, 什么, 店铺, ,, 说, 5, 星, 有点, ...</td>\n",
              "    </tr>\n",
              "  </tbody>\n",
              "</table>\n",
              "</div>"
            ],
            "text/plain": [
              "   label  ...                                                cut\n",
              "0      1  ...  [距离, 川沙, 公路, 较, 近, ,, 但是, 公交, 指示, 不对, ,, 如果, 是...\n",
              "1      1  ...  [商务, 大, 床, 房, ，, 房间, 很大, ，, 床, 有, 2M, 宽, ，, 整体...\n",
              "2      1  ...  [早餐, 太差, ，, 无论, 去, 多少, 人, ，, 那边, 也, 不加, 食品, 的,...\n",
              "3      1  ...  [宾馆, 在, 小街, 街道, 上, ，, 不大, 不大好, 大好, 好找, ，, 但, 还...\n",
              "4      1  ...  [CBD, 中心, ,, 周围, 没什么, 什么, 店铺, ,, 说, 5, 星, 有点, ...\n",
              "\n",
              "[5 rows x 3 columns]"
            ]
          },
          "metadata": {
            "tags": []
          },
          "execution_count": 29
        }
      ]
    },
    {
      "cell_type": "markdown",
      "metadata": {
        "id": "3bfOdT75xEDy"
      },
      "source": [
        "### 使用建構好的斷詞物件對文本進行斷詞"
      ]
    },
    {
      "cell_type": "code",
      "metadata": {
        "id": "zITvIt0BxEDy",
        "outputId": "ca420e04-c1b6-4345-834b-c22345ec39a4",
        "colab": {
          "base_uri": "https://localhost:8080/",
          "height": 289
        }
      },
      "source": [
        "### 請使用精確模式與預設字典對文本進行斷詞\n",
        "\n",
        "###<your code>###\n",
        "###<your code>### #為了避免處理時間過久, 這裡我們只使用前50個進行斷詞\n",
        "\n",
        "jieba_cut = JiebaCutingClass(key_to_cut='review')\n",
        "pd_cut = jieba_cut.cut_corpus(pd_corpus.loc[:50, :], mode='precise') #我們就用 default 精準模式 \n",
        "\n",
        "pd_cut.head()\n",
        "pd_cut.head()"
      ],
      "execution_count": 16,
      "outputs": [
        {
          "output_type": "stream",
          "text": [
            "/usr/local/lib/python3.6/dist-packages/ipykernel_launcher.py:107: SettingWithCopyWarning: \n",
            "A value is trying to be set on a copy of a slice from a DataFrame.\n",
            "Try using .loc[row_indexer,col_indexer] = value instead\n",
            "\n",
            "See the caveats in the documentation: https://pandas.pydata.org/pandas-docs/stable/user_guide/indexing.html#returning-a-view-versus-a-copy\n"
          ],
          "name": "stderr"
        },
        {
          "output_type": "execute_result",
          "data": {
            "text/html": [
              "<div>\n",
              "<style scoped>\n",
              "    .dataframe tbody tr th:only-of-type {\n",
              "        vertical-align: middle;\n",
              "    }\n",
              "\n",
              "    .dataframe tbody tr th {\n",
              "        vertical-align: top;\n",
              "    }\n",
              "\n",
              "    .dataframe thead th {\n",
              "        text-align: right;\n",
              "    }\n",
              "</style>\n",
              "<table border=\"1\" class=\"dataframe\">\n",
              "  <thead>\n",
              "    <tr style=\"text-align: right;\">\n",
              "      <th></th>\n",
              "      <th>label</th>\n",
              "      <th>review</th>\n",
              "      <th>cut</th>\n",
              "    </tr>\n",
              "  </thead>\n",
              "  <tbody>\n",
              "    <tr>\n",
              "      <th>0</th>\n",
              "      <td>1</td>\n",
              "      <td>距离川沙公路较近,但是公交指示不对,如果是\"蔡陆线\"的话,会非常麻烦.建议用别的路线.房间较...</td>\n",
              "      <td>[距离, 川沙, 公路, 较近, ,, 但是, 公交, 指示, 不, 对, ,, 如果, 是...</td>\n",
              "    </tr>\n",
              "    <tr>\n",
              "      <th>1</th>\n",
              "      <td>1</td>\n",
              "      <td>商务大床房，房间很大，床有2M宽，整体感觉经济实惠不错!</td>\n",
              "      <td>[商务, 大床, 房, ，, 房间, 很大, ，, 床有, 2M, 宽, ，, 整体, 感觉...</td>\n",
              "    </tr>\n",
              "    <tr>\n",
              "      <th>2</th>\n",
              "      <td>1</td>\n",
              "      <td>早餐太差，无论去多少人，那边也不加食品的。酒店应该重视一下这个问题了。房间本身很好。</td>\n",
              "      <td>[早餐, 太, 差, ，, 无论, 去, 多少, 人, ，, 那边, 也, 不加, 食品, ...</td>\n",
              "    </tr>\n",
              "    <tr>\n",
              "      <th>3</th>\n",
              "      <td>1</td>\n",
              "      <td>宾馆在小街道上，不大好找，但还好北京热心同胞很多~宾馆设施跟介绍的差不多，房间很小，确实挺小...</td>\n",
              "      <td>[宾馆, 在, 小, 街道, 上, ，, 不大好, 找, ，, 但, 还好, 北京, 热心,...</td>\n",
              "    </tr>\n",
              "    <tr>\n",
              "      <th>4</th>\n",
              "      <td>1</td>\n",
              "      <td>CBD中心,周围没什么店铺,说5星有点勉强.不知道为什么卫生间没有电吹风</td>\n",
              "      <td>[CBD, 中心, ,, 周围, 没什么, 店铺, ,, 说, 5, 星, 有点, 勉强, ...</td>\n",
              "    </tr>\n",
              "  </tbody>\n",
              "</table>\n",
              "</div>"
            ],
            "text/plain": [
              "   label  ...                                                cut\n",
              "0      1  ...  [距离, 川沙, 公路, 较近, ,, 但是, 公交, 指示, 不, 对, ,, 如果, 是...\n",
              "1      1  ...  [商务, 大床, 房, ，, 房间, 很大, ，, 床有, 2M, 宽, ，, 整体, 感觉...\n",
              "2      1  ...  [早餐, 太, 差, ，, 无论, 去, 多少, 人, ，, 那边, 也, 不加, 食品, ...\n",
              "3      1  ...  [宾馆, 在, 小, 街道, 上, ，, 不大好, 找, ，, 但, 还好, 北京, 热心,...\n",
              "4      1  ...  [CBD, 中心, ,, 周围, 没什么, 店铺, ,, 说, 5, 星, 有点, 勉强, ...\n",
              "\n",
              "[5 rows x 3 columns]"
            ]
          },
          "metadata": {
            "tags": []
          },
          "execution_count": 16
        }
      ]
    },
    {
      "cell_type": "markdown",
      "metadata": {
        "id": "Xx6iRVAdxED2"
      },
      "source": [
        "### 載入繁中字典為指定的字詞進行斷詞"
      ]
    },
    {
      "cell_type": "code",
      "metadata": {
        "id": "d79RGnloxED2",
        "outputId": "01ad27fc-368d-4a9f-e0e7-cf936992619d",
        "colab": {
          "base_uri": "https://localhost:8080/"
        }
      },
      "source": [
        "test_string = '我愛cupoy自然語言處理馬拉松課程'\n",
        "\n",
        "###<your code>###\n",
        "jieba_cut = JiebaCutingClass(key_to_cut='', dic='dict.txt.big')\n",
        "#out_string = ###<your code>### #paddle 模式\n",
        "out_string = jieba_cut.cut_single_sentence(test_string, use_paddle=True) \n",
        "print(f'Paddle模式: {[string for string in out_string]}')\n",
        "\n",
        "\n",
        "#out_string = ###<your code>### #全模式\n",
        "out_string = jieba_cut.cut_single_sentence(test_string, use_full=True) \n",
        "print(f'全模式: {[string for string in out_string]}')\n",
        "\n",
        "#out_string = ###<your code>### #搜尋模式\n",
        "out_string = jieba_cut.cut_single_sentence(test_string, use_search=True) \n",
        "\n",
        "print(f'搜尋模式: {[string for string in out_string]}')\n",
        "\n",
        "#out_string = ###<your code>### #精確模式 <== Jieba default, so no parameter required\n",
        "out_string = jieba_cut.cut_single_sentence(test_string) \n",
        "print(f'精確模式: {[string for string in out_string]}')"
      ],
      "execution_count": 17,
      "outputs": [
        {
          "output_type": "stream",
          "text": [
            "Building prefix dict from /content/dict.txt.big ...\n",
            "Dumping model to file cache /tmp/jieba.u501edca284da514cb68b53a20324f4e3.cache\n",
            "Loading model cost 1.556 seconds.\n",
            "Prefix dict has been built successfully.\n"
          ],
          "name": "stderr"
        },
        {
          "output_type": "stream",
          "text": [
            "Paddle模式: ['我', '愛', 'cupoy', '自然語言', '處理', '馬拉松', '課程']\n",
            "全模式: ['我', '愛', 'cupoy', '自然', '自然語言', '語言', '處理', '馬拉', '馬拉松', '課程']\n",
            "搜尋模式: ['我', '愛', 'cupoy', '自然', '語言', '自然語言', '處理', '馬拉', '馬拉松', '課程']\n",
            "精確模式: ['我', '愛', 'cupoy', '自然語言', '處理', '馬拉松', '課程']\n"
          ],
          "name": "stdout"
        }
      ]
    },
    {
      "cell_type": "markdown",
      "metadata": {
        "id": "57AkzOjvDSRJ"
      },
      "source": [
        "# add POS function"
      ]
    },
    {
      "cell_type": "code",
      "metadata": {
        "id": "fIUfmj6BDQhJ",
        "outputId": "198ade35-a121-4ae5-c6a2-2130b737df8b",
        "colab": {
          "base_uri": "https://localhost:8080/"
        }
      },
      "source": [
        "import jieba\n",
        "import jieba.posseg as pseg\n",
        "\n",
        "input_str = \"小明碩士畢業於國立臺灣大學，現在在日本東京大學進修深造\"\n",
        "cutted_words = pseg.cut(input_str)\n",
        "words = [(word, flag) for (word, flag) in cutted_words]\n",
        "print(words)"
      ],
      "execution_count": 18,
      "outputs": [
        {
          "output_type": "stream",
          "text": [
            "[('小明', 'nr'), ('碩士', 'n'), ('畢業', 'n'), ('於', 'nr'), ('國立', 'b'), ('臺灣大學', 'nt'), ('，', 'x'), ('現在', 't'), ('在', 'p'), ('日本東京大學', 'nt'), ('進修', 'v'), ('深造', 'v')]\n"
          ],
          "name": "stdout"
        }
      ]
    }
  ]
}