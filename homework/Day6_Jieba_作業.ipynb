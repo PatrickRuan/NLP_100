{
  "nbformat": 4,
  "nbformat_minor": 0,
  "metadata": {
    "kernelspec": {
      "name": "python3",
      "display_name": "Python 3"
    },
    "colab": {
      "name": "Day6_Jieba_作業.ipynb",
      "provenance": [],
      "include_colab_link": true
    }
  },
  "cells": [
    {
      "cell_type": "markdown",
      "metadata": {
        "id": "view-in-github",
        "colab_type": "text"
      },
      "source": [
        "<a href=\"https://colab.research.google.com/github/PatrickRuan/NLP_100/blob/main/homework/Day6_Jieba_%E4%BD%9C%E6%A5%AD.ipynb\" target=\"_parent\"><img src=\"https://colab.research.google.com/assets/colab-badge.svg\" alt=\"Open In Colab\"/></a>"
      ]
    },
    {
      "cell_type": "markdown",
      "metadata": {
        "id": "IzRv_IGkxEDQ"
      },
      "source": [
        "## 作業目標: 使用Jieba進行各項的斷詞操作\n",
        "\n",
        "這份作業我們會使用中文飯店評論資料集來作為斷詞練習。 [資料集:ChnSentiCorp_htl_all](https://github.com/SophonPlus/ChineseNlpCorpus)"
      ]
    },
    {
      "cell_type": "markdown",
      "metadata": {
        "id": "_L8idkZyxEDW"
      },
      "source": [
        "### 讀入文本資料"
      ]
    },
    {
      "cell_type": "code",
      "metadata": {
        "id": "G0fWMXRLxW7E",
        "outputId": "0b872dda-b60a-4276-ab24-e413a7e21cc1",
        "colab": {
          "base_uri": "https://localhost:8080/"
        }
      },
      "source": [
        "from google.colab import drive\n",
        "drive.mount('/content/drive/')\n",
        "path = 'drive/My Drive/學習/Cupoy/NLP_Cupoy_Pre/d006/'\n",
        "!cp -r drive/'My Drive'/學習/Cupoy/NLP_Cupoy_Pre/d006/*.* .\n",
        "\n",
        "import pandas as pd\n",
        "pd_corpus = pd.read_csv('ChnSentiCorp_htl_all.csv')\n",
        "pd_corpus.count"
      ],
      "execution_count": 3,
      "outputs": [
        {
          "output_type": "stream",
          "text": [
            "Drive already mounted at /content/drive/; to attempt to forcibly remount, call drive.mount(\"/content/drive/\", force_remount=True).\n"
          ],
          "name": "stdout"
        },
        {
          "output_type": "execute_result",
          "data": {
            "text/plain": [
              "<bound method DataFrame.count of       label                                             review\n",
              "0         1  距离川沙公路较近,但是公交指示不对,如果是\"蔡陆线\"的话,会非常麻烦.建议用别的路线.房间较...\n",
              "1         1                       商务大床房，房间很大，床有2M宽，整体感觉经济实惠不错!\n",
              "2         1         早餐太差，无论去多少人，那边也不加食品的。酒店应该重视一下这个问题了。房间本身很好。\n",
              "3         1  宾馆在小街道上，不大好找，但还好北京热心同胞很多~宾馆设施跟介绍的差不多，房间很小，确实挺小...\n",
              "4         1               CBD中心,周围没什么店铺,说5星有点勉强.不知道为什么卫生间没有电吹风\n",
              "...     ...                                                ...\n",
              "7761      0  尼斯酒店的几大特点：噪音大、环境差、配置低、服务效率低。如：1、隔壁歌厅的声音闹至午夜3点许...\n",
              "7762      0  盐城来了很多次，第一次住盐阜宾馆，我的确很失望整个墙壁黑咕隆咚的，好像被烟熏过一样家具非常的...\n",
              "7763      0  看照片觉得还挺不错的，又是4星级的，但入住以后除了后悔没有别的，房间挺大但空空的，早餐是有但...\n",
              "7764      0  我们去盐城的时候那里的最低气温只有4度，晚上冷得要死，居然还不开空调，投诉到酒店客房部，得到...\n",
              "7765      0  说实在的我很失望，之前看了其他人的点评后觉得还可以才去的，结果让我们大跌眼镜。我想这家酒店以...\n",
              "\n",
              "[7766 rows x 2 columns]>"
            ]
          },
          "metadata": {
            "tags": []
          },
          "execution_count": 3
        }
      ]
    },
    {
      "cell_type": "code",
      "metadata": {
        "id": "yORfw8IhxEDl"
      },
      "source": [
        "#移除缺失值\n",
        "###<your code>###\n",
        "\n",
        "pd_corpus.dropna(inplace=True)"
      ],
      "execution_count": 4,
      "outputs": []
    },
    {
      "cell_type": "code",
      "metadata": {
        "id": "Wsl7i1JExEDh",
        "outputId": "4dd00e94-0d98-465a-e15c-342368376a8d",
        "colab": {
          "base_uri": "https://localhost:8080/"
        }
      },
      "source": [
        "#確認所有留言,正評價(label=1)與負評價數量(label=0)\n",
        "pd_positive = pd_corpus[pd_corpus['label']==1].count()['label']\n",
        "pd_negative = pd_corpus[pd_corpus['label']==0].count()['label']\n",
        "#print(f'Total: {len(pd_corpus)}, Positive: {len(pd_positive)}, Negative: {len(pd_negative)}')\n",
        "print(f'Total: {len(pd_corpus)}, Positive: {pd_positive}, Negative: {pd_negative}')"
      ],
      "execution_count": 5,
      "outputs": [
        {
          "output_type": "stream",
          "text": [
            "Total: 7765, Positive: 5322, Negative: 2443\n"
          ],
          "name": "stdout"
        }
      ]
    },
    {
      "cell_type": "markdown",
      "metadata": {
        "id": "ta6_0GNwxEDr"
      },
      "source": [
        "### 建構結巴斷詞Function\n",
        "\n",
        "建構可將讀入的Pandas DataFrame的文本資料，外加一欄名為`cut`的review欄位斷詞結果"
      ]
    },
    {
      "cell_type": "code",
      "metadata": {
        "id": "KImhHu0NxEDs"
      },
      "source": [
        "import jieba"
      ],
      "execution_count": 6,
      "outputs": []
    },
    {
      "cell_type": "code",
      "metadata": {
        "id": "SuM32kIP7OX1"
      },
      "source": [
        ""
      ],
      "execution_count": 6,
      "outputs": []
    },
    {
      "cell_type": "markdown",
      "metadata": {
        "id": "J8jCLW6K7O-i"
      },
      "source": [
        "class JiebaCutingClass\n",
        "- 把四種 modes 全包 包含了 paddle, 所以在__init__ 就 enable所以在 __init__ 就 enable\n",
        "\n",
        "- 建立物件時給的是 要用那一欄位切割\n",
        "- 應用時是 JiebaCutingClass應用時是 JiebaCutingClass.cut_corpus 因為 jieba 提供四種模式 所以我們也要求模式參數，我是預設為 'precise'\n",
        "  - 由 mode 會去 call cut_由 mode 會去 call 四種 self._mode.cut\n",
        "    - 在 self._mode_cut 下會完成 sentences 的分割, \n",
        "    - 然後送到 cut_single_sentence 去作 jieba.use_search or other 3 modes jieba.cut\n",
        "\n",
        "\n"
      ]
    },
    {
      "cell_type": "code",
      "metadata": {
        "id": "Ikj47FDLxEDu"
      },
      "source": [
        "class JiebaCutingClass(object):\n",
        "    '''Class to use jeiba to parse corpus from dataframe and cut the corpus\n",
        "    \n",
        "    Parameters\n",
        "    -----------\n",
        "    key_to_cut: str\n",
        "        the dataframe key to parse the sentence for jieba cutting\n",
        "    dic: str\n",
        "        the dictionary to use for jieba, default is None (use default dictionary)\n",
        "    userdict: str\n",
        "        the user defined dictionary to use for jieba, default is None\n",
        "    '''\n",
        "    \n",
        "    def __init__(self, key_to_cut:str, dic:str=None, userdict:str=None):\n",
        "        \n",
        "        if dic is not None:\n",
        "            jieba.set_dictionary(dic)\n",
        "        \n",
        "        if userdict is not None:\n",
        "            jieba.load_userdict(userdict)\n",
        "        \n",
        "        self.key_to_cut = key_to_cut\n",
        "\n",
        "        \n",
        "    @staticmethod # cut_single_sentence 會在\n",
        "    def cut_single_sentence(sentence, use_paddle=False, use_full=False, use_search=False):\n",
        "        \n",
        "        if use_search:\n",
        "            ###<your code>###\n",
        "            out=jieba.cut_for_search(sentence=sentence)\n",
        "        else:\n",
        "            ###<your code>###  \n",
        "            out = jieba.cut(sentence, use_paddle=use_paddle, cut_all=use_full)\n",
        "        \n",
        "        return out\n",
        "            \n",
        "    \n",
        "    def cut_corpus(self, corpus: pd.DataFrame, mode: 'precise') -> pd.DataFrame:\n",
        "        '''Method to read and cut sentence from dataframe and append another column named cut\n",
        "        \n",
        "        Paremeters\n",
        "        --------------\n",
        "        corpus: pd.DataFrame\n",
        "            Input corpus in dataframe\n",
        "        mode: str\n",
        "            Jieba mode to be used\n",
        "        \n",
        "        Return\n",
        "        ----------------\n",
        "        out: pd.Dataframe\n",
        "            Output corpus in dataframe\n",
        "        '''\n",
        "        \n",
        "        # checking valid mode\n",
        "        if mode not in ['paddle', 'full', 'precise', 'search']:\n",
        "            raise TypeError(f'only support `paddle`, `full`, `precise`, and `search` mode, but get {mode}')\n",
        "            \n",
        "        # cut the corpus based on mode\n",
        "        if mode == 'paddle':\n",
        "            ###<your code>###\n",
        "            out=self._paddle_cut(corpus)\n",
        "        elif mode == 'full':\n",
        "            ###<your code>###\n",
        "            out=self._full_cut(corpus)\n",
        "        elif mode == 'precise':\n",
        "            ###<your code>###\n",
        "            out=self._precise_cut(corpus)\n",
        "\n",
        "        elif mode == 'search':\n",
        "            ###<your code>###\n",
        "            out=self._search_cut(corpus)\n",
        "\n",
        "        return out\n",
        "    \n",
        "    def _paddle_cut(self, corpus):\n",
        "        '''paddle mode\n",
        "        '''\n",
        "        \n",
        "        out = []\n",
        "        ###<your code>###\n",
        "        for i in corpus[self.key_to_cut]: \n",
        "            out.append([word for word in JiebaCutingClass.cut_single_sentence(i, use_paddle=True)])\n",
        "        \n",
        "        corpus['cut'] = out # 就是要新增一欄, next to 'review' column\n",
        "        return corpus\n",
        "    \n",
        "    def _full_cut(self, corpus):\n",
        "        '''full mode\n",
        "        '''\n",
        "        out = []\n",
        "        for i in corpus[self.key_to_cut]: \n",
        "            out.append([word for word in JiebaCutingClass.cut_single_sentence(i, use_full=True)])\n",
        "        \n",
        "        corpus['cut'] = out # 就是要新增一欄, next to 'review' column\n",
        "        return corpus\n",
        "\n",
        "    \n",
        "    def _precise_cut(self, corpus):\n",
        "        '''precise mode\n",
        "        '''\n",
        "        out = []\n",
        "        for i in corpus[self.key_to_cut]: \n",
        "            out.append([word for word in JiebaCutingClass.cut_single_sentence(i)])\n",
        "        \n",
        "        corpus['cut'] = out # 就是要新增一欄, next to 'review' column\n",
        "        return corpus\n",
        "    def _search_cut(self, corpus):\n",
        "        '''search mode\n",
        "        '''\n",
        "        out = []\n",
        "        for i in corpus[self.key_to_cut]: \n",
        "            out.append([word for word in JiebaCutingClass.cut_single_sentence(i, use_search=True)])\n",
        "        \n",
        "        corpus['cut'] = out # 就是要新增一欄, next to 'review' column\n",
        "        return corpus"
      ],
      "execution_count": 7,
      "outputs": []
    },
    {
      "cell_type": "markdown",
      "metadata": {
        "id": "3bfOdT75xEDy"
      },
      "source": [
        "### 使用建構好的斷詞物件對文本進行斷詞"
      ]
    },
    {
      "cell_type": "code",
      "metadata": {
        "id": "zITvIt0BxEDy",
        "outputId": "1edb3ab8-39ec-4e8d-957b-5abac7613ce6",
        "colab": {
          "base_uri": "https://localhost:8080/",
          "height": 462
        }
      },
      "source": [
        "### 請使用精確模式與預設字典對文本進行斷詞\n",
        "\n",
        "###<your code>###\n",
        "###<your code>### #為了避免處理時間過久, 這裡我們只使用前50個進行斷詞\n",
        "\n",
        "jieba_cut = JiebaCutingClass(key_to_cut='review')\n",
        "pd_cut = jieba_cut.cut_corpus(pd_corpus.loc[:50, :], mode='precise') #我們就用 default 精準模式 \n",
        "\n",
        "pd_cut.head()\n",
        "pd_cut.head()"
      ],
      "execution_count": 8,
      "outputs": [
        {
          "output_type": "stream",
          "text": [
            "Building prefix dict from the default dictionary ...\n",
            "Dumping model to file cache /tmp/jieba.cache\n",
            "Loading model cost 0.959 seconds.\n",
            "Prefix dict has been built successfully.\n",
            "/usr/local/lib/python3.6/dist-packages/ipykernel_launcher.py:105: SettingWithCopyWarning: \n",
            "A value is trying to be set on a copy of a slice from a DataFrame.\n",
            "Try using .loc[row_indexer,col_indexer] = value instead\n",
            "\n",
            "See the caveats in the documentation: https://pandas.pydata.org/pandas-docs/stable/user_guide/indexing.html#returning-a-view-versus-a-copy\n"
          ],
          "name": "stderr"
        },
        {
          "output_type": "execute_result",
          "data": {
            "text/html": [
              "<div>\n",
              "<style scoped>\n",
              "    .dataframe tbody tr th:only-of-type {\n",
              "        vertical-align: middle;\n",
              "    }\n",
              "\n",
              "    .dataframe tbody tr th {\n",
              "        vertical-align: top;\n",
              "    }\n",
              "\n",
              "    .dataframe thead th {\n",
              "        text-align: right;\n",
              "    }\n",
              "</style>\n",
              "<table border=\"1\" class=\"dataframe\">\n",
              "  <thead>\n",
              "    <tr style=\"text-align: right;\">\n",
              "      <th></th>\n",
              "      <th>label</th>\n",
              "      <th>review</th>\n",
              "      <th>cut</th>\n",
              "    </tr>\n",
              "  </thead>\n",
              "  <tbody>\n",
              "    <tr>\n",
              "      <th>0</th>\n",
              "      <td>1</td>\n",
              "      <td>距离川沙公路较近,但是公交指示不对,如果是\"蔡陆线\"的话,会非常麻烦.建议用别的路线.房间较...</td>\n",
              "      <td>[距离, 川沙, 公路, 较近, ,, 但是, 公交, 指示, 不, 对, ,, 如果, 是...</td>\n",
              "    </tr>\n",
              "    <tr>\n",
              "      <th>1</th>\n",
              "      <td>1</td>\n",
              "      <td>商务大床房，房间很大，床有2M宽，整体感觉经济实惠不错!</td>\n",
              "      <td>[商务, 大床, 房, ，, 房间, 很大, ，, 床有, 2M, 宽, ，, 整体, 感觉...</td>\n",
              "    </tr>\n",
              "    <tr>\n",
              "      <th>2</th>\n",
              "      <td>1</td>\n",
              "      <td>早餐太差，无论去多少人，那边也不加食品的。酒店应该重视一下这个问题了。房间本身很好。</td>\n",
              "      <td>[早餐, 太, 差, ，, 无论, 去, 多少, 人, ，, 那边, 也, 不加, 食品, ...</td>\n",
              "    </tr>\n",
              "    <tr>\n",
              "      <th>3</th>\n",
              "      <td>1</td>\n",
              "      <td>宾馆在小街道上，不大好找，但还好北京热心同胞很多~宾馆设施跟介绍的差不多，房间很小，确实挺小...</td>\n",
              "      <td>[宾馆, 在, 小, 街道, 上, ，, 不大好, 找, ，, 但, 还好, 北京, 热心,...</td>\n",
              "    </tr>\n",
              "    <tr>\n",
              "      <th>4</th>\n",
              "      <td>1</td>\n",
              "      <td>CBD中心,周围没什么店铺,说5星有点勉强.不知道为什么卫生间没有电吹风</td>\n",
              "      <td>[CBD, 中心, ,, 周围, 没什么, 店铺, ,, 说, 5, 星, 有点, 勉强, ...</td>\n",
              "    </tr>\n",
              "  </tbody>\n",
              "</table>\n",
              "</div>"
            ],
            "text/plain": [
              "   label  ...                                                cut\n",
              "0      1  ...  [距离, 川沙, 公路, 较近, ,, 但是, 公交, 指示, 不, 对, ,, 如果, 是...\n",
              "1      1  ...  [商务, 大床, 房, ，, 房间, 很大, ，, 床有, 2M, 宽, ，, 整体, 感觉...\n",
              "2      1  ...  [早餐, 太, 差, ，, 无论, 去, 多少, 人, ，, 那边, 也, 不加, 食品, ...\n",
              "3      1  ...  [宾馆, 在, 小, 街道, 上, ，, 不大好, 找, ，, 但, 还好, 北京, 热心,...\n",
              "4      1  ...  [CBD, 中心, ,, 周围, 没什么, 店铺, ,, 说, 5, 星, 有点, 勉强, ...\n",
              "\n",
              "[5 rows x 3 columns]"
            ]
          },
          "metadata": {
            "tags": []
          },
          "execution_count": 8
        }
      ]
    },
    {
      "cell_type": "markdown",
      "metadata": {
        "id": "Xx6iRVAdxED2"
      },
      "source": [
        "### 載入繁中字典為指定的字詞進行斷詞"
      ]
    },
    {
      "cell_type": "code",
      "metadata": {
        "id": "d79RGnloxED2",
        "outputId": "e32eb918-4c08-4559-be59-1a056da494ba",
        "colab": {
          "base_uri": "https://localhost:8080/"
        }
      },
      "source": [
        "test_string = '我愛cupoy自然語言處理馬拉松課程'\n",
        "\n",
        "###<your code>###\n",
        "jieba_cut = JiebaCutingClass(key_to_cut='', dic='dict.txt.big')\n",
        "#out_string = ###<your code>### #paddle 模式\n",
        "out_string = jieba_cut.cut_single_sentence(test_string, use_paddle=True) \n",
        "print(f'Paddle模式: {[string for string in out_string]}')\n",
        "\n",
        "\n",
        "#out_string = ###<your code>### #全模式\n",
        "out_string = jieba_cut.cut_single_sentence(test_string, use_full=True) \n",
        "print(f'全模式: {[string for string in out_string]}')\n",
        "\n",
        "#out_string = ###<your code>### #搜尋模式\n",
        "out_string = jieba_cut.cut_single_sentence(test_string, use_search=True) \n",
        "\n",
        "print(f'搜尋模式: {[string for string in out_string]}')\n",
        "\n",
        "#out_string = ###<your code>### #精確模式 <== Jieba default, so no parameter required\n",
        "out_string = jieba_cut.cut_single_sentence(test_string) \n",
        "print(f'精確模式: {[string for string in out_string]}')"
      ],
      "execution_count": 9,
      "outputs": [
        {
          "output_type": "stream",
          "text": [
            "Building prefix dict from /content/dict.txt.big ...\n",
            "Dumping model to file cache /tmp/jieba.u501edca284da514cb68b53a20324f4e3.cache\n",
            "Loading model cost 1.639 seconds.\n",
            "Prefix dict has been built successfully.\n"
          ],
          "name": "stderr"
        },
        {
          "output_type": "stream",
          "text": [
            "Paddle模式: ['我', '愛', 'cupoy', '自然語言', '處理', '馬拉松', '課程']\n",
            "全模式: ['我', '愛', 'cupoy', '自然', '自然語言', '語言', '處理', '馬拉', '馬拉松', '課程']\n",
            "搜尋模式: ['我', '愛', 'cupoy', '自然', '語言', '自然語言', '處理', '馬拉', '馬拉松', '課程']\n",
            "精確模式: ['我', '愛', 'cupoy', '自然語言', '處理', '馬拉松', '課程']\n"
          ],
          "name": "stdout"
        }
      ]
    },
    {
      "cell_type": "markdown",
      "metadata": {
        "id": "57AkzOjvDSRJ"
      },
      "source": [
        "# add POS function"
      ]
    },
    {
      "cell_type": "code",
      "metadata": {
        "id": "fIUfmj6BDQhJ",
        "outputId": "aa4bfb54-707b-4311-bab6-3cb78479d266",
        "colab": {
          "base_uri": "https://localhost:8080/"
        }
      },
      "source": [
        "import jieba\n",
        "import jieba.posseg as pseg\n",
        "\n",
        "input_str = \"小明碩士畢業於國立臺灣大學，現在在日本東京大學進修深造\"\n",
        "cutted_words = pseg.cut(input_str)\n",
        "words = [(word, flag) for (word, flag) in cutted_words]\n",
        "print(words)"
      ],
      "execution_count": 10,
      "outputs": [
        {
          "output_type": "stream",
          "text": [
            "[('小明', 'nr'), ('碩士', 'n'), ('畢業', 'n'), ('於', 'nr'), ('國立', 'b'), ('臺灣大學', 'nt'), ('，', 'x'), ('現在', 't'), ('在', 'p'), ('日本東京大學', 'nt'), ('進修', 'v'), ('深造', 'v')]\n"
          ],
          "name": "stdout"
        }
      ]
    }
  ]
}