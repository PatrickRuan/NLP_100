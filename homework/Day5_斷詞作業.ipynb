{
  "nbformat": 4,
  "nbformat_minor": 0,
  "metadata": {
    "kernelspec": {
      "display_name": "pytorch_env",
      "language": "python",
      "name": "pytorch_env"
    },
    "language_info": {
      "codemirror_mode": {
        "name": "ipython",
        "version": 3
      },
      "file_extension": ".py",
      "mimetype": "text/x-python",
      "name": "python",
      "nbconvert_exporter": "python",
      "pygments_lexer": "ipython3",
      "version": "3.7.3"
    },
    "colab": {
      "name": "Day5_斷詞作業.ipynb",
      "provenance": [],
      "include_colab_link": true
    }
  },
  "cells": [
    {
      "cell_type": "markdown",
      "metadata": {
        "id": "view-in-github",
        "colab_type": "text"
      },
      "source": [
        "<a href=\"https://colab.research.google.com/github/PatrickRuan/NLP_100/blob/main/homework/Day5_%E6%96%B7%E8%A9%9E%E4%BD%9C%E6%A5%AD.ipynb\" target=\"_parent\"><img src=\"https://colab.research.google.com/assets/colab-badge.svg\" alt=\"Open In Colab\"/></a>"
      ]
    },
    {
      "cell_type": "markdown",
      "metadata": {
        "id": "nRxkACwPzPyV"
      },
      "source": [
        "## 作業目標: 了解斷詞演算法的背後計算"
      ]
    },
    {
      "cell_type": "markdown",
      "metadata": {
        "id": "l-ybaNZizPyW"
      },
      "source": [
        "### 根據課程講述的內容, 請計算出下列剩餘所有情況的\n",
        "若有一個人連續觀察到三天水草都是乾燥的(Dry), 則這三天的天氣機率為何？(可參考講義第13頁)\n",
        "(Hint: 共有6種可能機率)\n",
        "\n",
        "```python\n",
        "states = ('sunny', 'rainy')\n",
        "observations = ('dry', 'damp', 'soggy')\n",
        "start_probability = {'sunny': 0.4, 'rainy': 0.6}\n",
        "transition_probability = {'sunny':{'sunny':0.6, 'rainy':0.4},\n",
        "                          'rainy': {'sunny':0.3, 'rainy':0.7}}\n",
        "emission_probatility = {'sunny': {'dry':0.6, 'damp':0.3, 'soggy':0.1},\n",
        "                        'rainy': {'dry':0.1, 'damp':0.4, 'soggy':0.5}}\n",
        "```"
      ]
    },
    {
      "cell_type": "markdown",
      "metadata": {
        "id": "99u8GShpzPyX"
      },
      "source": [
        "```\n",
        "觀察狀態 = 'dry', 'dry', 'dry'\n",
        "Sunny, Sunny, Sunny: 0.4*(0.6)*0.6*(0.6)*0.6*(0.6) = 0.031104\n",
        "Rainy, Sunny, Sunny: 0.6*(0.1)*0.3*(0.6)*0.6*(0.6) = 0.003888\n",
        "###<your answers>###\n",
        "Sunny, Rainy, Sunny: 0.4*(0.6)* 0.4 * 0.1 * \n",
        "Rainy, Rainy, Sunny:\n",
        "Sunny, Sunny, Rainy: \n",
        "Rainy, Sunny, Rainy: \n",
        "Sunny, Rainy, Rainy: \n",
        "Rainy, Rainy, Rainy:\n",
        "\n",
        "\n",
        "Sunny, Sunny, Sunny: 0.4*(0.6)*0.6*(0.6)*0.6*(0.6) = 0.031104\n",
        "Rainy, Sunny, Sunny: 0.6*(0.1)*0.3*(0.6)*0.6*(0.6) = 0.003888\n",
        "* SRS?        0.4*(0.6)*0.4*0.1*0.3*0.6 = 0.001728\n",
        "Rainy, Rainy, Sunny: 0.6*(0.1)*0.7*(0.1)*0.3*(0.6) = 0.000756\n",
        "* SSR?        0.4*0.6*0.6*0.6*0.4*0.1 = 0.003456\n",
        "Rainy, Sunny, Rainy: 0.6*(0.1)*0.3*(0.6)*0.4*(0.1) = 0.000432\n",
        "Sunny, Rainy, Rainy: 0.4*(0.6)*0.4*(0.1)*0.7*(0.1) = 0.000672\n",
        "Rainy, Rainy, Rainy: 0.6*(0.1)*0.7*(0.1)*0.7*(0.1) = 0.000294\n",
        "\n",
        "\n",
        "\n",
        "最大機率為: Sunny, Sunny, Sunny\n",
        "```"
      ]
    },
    {
      "cell_type": "markdown",
      "metadata": {
        "id": "_-avrSj5zPyX"
      },
      "source": [
        "### 根據上述條件, 寫出Viterbi應用程式"
      ]
    },
    {
      "cell_type": "code",
      "metadata": {
        "id": "miP0aWWezPyY"
      },
      "source": [
        "observations = ('dry', 'dry', 'dry') #實際上觀察到的狀態為dry, dry, dry\n",
        "states = ('sunny', 'rainy')\n",
        "start_probability = {'sunny': 0.4, 'rainy': 0.6}  # start_p\n",
        "transition_probability = {'sunny':{'sunny':0.6, 'rainy':0.4}, \n",
        "                          'rainy': {'sunny':0.3, 'rainy':0.7}} # trans_p\n",
        "emission_probatility = {'sunny': {'dry':0.6, 'damp':0.3, 'soggy':0.1},\n",
        "                        'rainy': {'dry':0.1, 'damp':0.4, 'soggy':0.5}} # emit_p"
      ],
      "execution_count": 7,
      "outputs": []
    },
    {
      "cell_type": "code",
      "metadata": {
        "id": "Bwxh0AUTmgCY"
      },
      "source": [
        "def viterbi(obs, states, start_p, trans_p, emit_p):\n",
        "  V = [{}]\n",
        "  path = {}\n",
        "\n",
        "    # Initialize base cases (t == 0) 因為第一天是根據 init table, start_p * emit 之後才會是 trans. * emit\n",
        "  for y in states:\n",
        "    V[0][y] = start_p[y] * emit_p[y][obs[0]]\n",
        "    path[y] = [y]\n",
        "\n",
        "    # Run Viterbi for t > 0\n",
        "  for t in range(1,len(obs)):  # 從 1 開始到 len(obs) =3, 第一天是用 start_p * emit, 第二三天才用 trans.*emit\n",
        "    V.append({})\n",
        "    newpath = {}\n",
        "\n",
        "    for cur_state in states: \n",
        "      (prob, state) = max([(V[t-1][pre_state] * trans_p[pre_state][cur_state] * emit_p[cur_state][obs[t]], pre_state) for pre_state in states])\n",
        "      V[t][cur_state] = prob\n",
        "      newpath[cur_state] = path[state] + [cur_state]\n",
        "\n",
        "        # Don't need to remember the old paths\n",
        "    path = newpath\n",
        "    \n",
        "  (prob, state) = max([(V[len(obs) - 1][final_state], final_state) for final_state in states])\n",
        "  return (prob, path[state])"
      ],
      "execution_count": 11,
      "outputs": []
    },
    {
      "cell_type": "code",
      "metadata": {
        "id": "i_wm3v0wmgCc",
        "outputId": "f49f7e7e-f600-44da-d847-99e53e3644a7",
        "colab": {
          "base_uri": "https://localhost:8080/"
        }
      },
      "source": [
        "result = viterbi(observations,\n",
        "                 states,\n",
        "                 start_probability,\n",
        "                 transition_probability,\n",
        "                 emission_probatility)"
      ],
      "execution_count": 12,
      "outputs": [
        {
          "output_type": "stream",
          "text": [
            "1\n",
            "2\n"
          ],
          "name": "stdout"
        }
      ]
    },
    {
      "cell_type": "code",
      "metadata": {
        "id": "hwvZQwZqmgCm",
        "outputId": "fb6ee1c1-dabd-4cc6-b169-4dedd454e323",
        "colab": {
          "base_uri": "https://localhost:8080/"
        }
      },
      "source": [
        "result"
      ],
      "execution_count": 13,
      "outputs": [
        {
          "output_type": "execute_result",
          "data": {
            "text/plain": [
              "(0.031103999999999993, ['sunny', 'sunny', 'sunny'])"
            ]
          },
          "metadata": {
            "tags": []
          },
          "execution_count": 13
        }
      ]
    }
  ]
}