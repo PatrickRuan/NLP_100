{
  "nbformat": 4,
  "nbformat_minor": 0,
  "metadata": {
    "kernelspec": {
      "display_name": "cupoy_env",
      "language": "python",
      "name": "cupoy_env"
    },
    "language_info": {
      "codemirror_mode": {
        "name": "ipython",
        "version": 3
      },
      "file_extension": ".py",
      "mimetype": "text/x-python",
      "name": "python",
      "nbconvert_exporter": "python",
      "pygments_lexer": "ipython3",
      "version": "3.7.3"
    },
    "colab": {
      "name": "Day017_計數方法詞向量介紹_解答.ipynb",
      "provenance": [],
      "collapsed_sections": [],
      "include_colab_link": true
    }
  },
  "cells": [
    {
      "cell_type": "markdown",
      "metadata": {
        "id": "view-in-github",
        "colab_type": "text"
      },
      "source": [
        "<a href=\"https://colab.research.google.com/github/PatrickRuan/NLP_100/blob/main/homework/Day017_%E8%A8%88%E6%95%B8%E6%96%B9%E6%B3%95%E8%A9%9E%E5%90%91%E9%87%8F%E4%BB%8B%E7%B4%B9_%E8%A7%A3%E7%AD%94.ipynb\" target=\"_parent\"><img src=\"https://colab.research.google.com/assets/colab-badge.svg\" alt=\"Open In Colab\"/></a>"
      ]
    },
    {
      "cell_type": "markdown",
      "metadata": {
        "id": "cYes6XWBtvCp"
      },
      "source": [
        "### 作業目的: 使用計數方法詞向量的技巧進行垃圾訊息分類\n",
        "本次作業會使用kaggle上的[SMS Spam Dataset](https://www.kaggle.com/uciml/sms-spam-collection-dataset#spam.csv)來進行"
      ]
    },
    {
      "cell_type": "markdown",
      "metadata": {
        "id": "DDA_pfn0tvCq"
      },
      "source": [
        "### 載入所需的Libraries"
      ]
    },
    {
      "cell_type": "code",
      "metadata": {
        "id": "Ub6cosdxtvCq"
      },
      "source": [
        "import re\n",
        "import pandas as pd\n",
        "import numpy as np\n",
        "import matplotlib.pyplot as plt\n",
        "from sklearn.model_selection import train_test_split\n",
        "from sklearn.feature_extraction.text import TfidfVectorizer\n",
        "from sklearn.decomposition import TruncatedSVD\n",
        "from typing import List"
      ],
      "execution_count": 2,
      "outputs": []
    },
    {
      "cell_type": "markdown",
      "metadata": {
        "id": "vwf9yaoQtvCq"
      },
      "source": [
        "### 載入資料"
      ]
    },
    {
      "cell_type": "code",
      "metadata": {
        "colab": {
          "base_uri": "https://localhost:8080/"
        },
        "id": "Q_f7r40QvE2G",
        "outputId": "20b4931c-77dc-4bdb-928d-ff1c1e9f3de3"
      },
      "source": [
        "from google.colab import drive\n",
        "drive.mount('/content/drive')\n",
        "\n",
        "path = 'drive/My Drive/學習/Cupoy/NLP_Cupoy_Pre/d017/'"
      ],
      "execution_count": 3,
      "outputs": [
        {
          "output_type": "stream",
          "text": [
            "Mounted at /content/drive\n"
          ],
          "name": "stdout"
        }
      ]
    },
    {
      "cell_type": "code",
      "metadata": {
        "colab": {
          "base_uri": "https://localhost:8080/",
          "height": 204
        },
        "id": "qwsxW-7MtvCq",
        "outputId": "ec92df68-1786-44bd-d943-5a773744f4a1"
      },
      "source": [
        "# read data from spam.csv\n",
        "\n",
        "sms_data = pd.read_csv(path+'./spam.csv', usecols=[0,1], encoding=\"latin\")\n",
        "sms_data.columns = [\"label\", \"content\"]\n",
        "sms_data.head()"
      ],
      "execution_count": 4,
      "outputs": [
        {
          "output_type": "execute_result",
          "data": {
            "text/html": [
              "<div>\n",
              "<style scoped>\n",
              "    .dataframe tbody tr th:only-of-type {\n",
              "        vertical-align: middle;\n",
              "    }\n",
              "\n",
              "    .dataframe tbody tr th {\n",
              "        vertical-align: top;\n",
              "    }\n",
              "\n",
              "    .dataframe thead th {\n",
              "        text-align: right;\n",
              "    }\n",
              "</style>\n",
              "<table border=\"1\" class=\"dataframe\">\n",
              "  <thead>\n",
              "    <tr style=\"text-align: right;\">\n",
              "      <th></th>\n",
              "      <th>label</th>\n",
              "      <th>content</th>\n",
              "    </tr>\n",
              "  </thead>\n",
              "  <tbody>\n",
              "    <tr>\n",
              "      <th>0</th>\n",
              "      <td>ham</td>\n",
              "      <td>Go until jurong point, crazy.. Available only ...</td>\n",
              "    </tr>\n",
              "    <tr>\n",
              "      <th>1</th>\n",
              "      <td>ham</td>\n",
              "      <td>Ok lar... Joking wif u oni...</td>\n",
              "    </tr>\n",
              "    <tr>\n",
              "      <th>2</th>\n",
              "      <td>spam</td>\n",
              "      <td>Free entry in 2 a wkly comp to win FA Cup fina...</td>\n",
              "    </tr>\n",
              "    <tr>\n",
              "      <th>3</th>\n",
              "      <td>ham</td>\n",
              "      <td>U dun say so early hor... U c already then say...</td>\n",
              "    </tr>\n",
              "    <tr>\n",
              "      <th>4</th>\n",
              "      <td>ham</td>\n",
              "      <td>Nah I don't think he goes to usf, he lives aro...</td>\n",
              "    </tr>\n",
              "  </tbody>\n",
              "</table>\n",
              "</div>"
            ],
            "text/plain": [
              "  label                                            content\n",
              "0   ham  Go until jurong point, crazy.. Available only ...\n",
              "1   ham                      Ok lar... Joking wif u oni...\n",
              "2  spam  Free entry in 2 a wkly comp to win FA Cup fina...\n",
              "3   ham  U dun say so early hor... U c already then say...\n",
              "4   ham  Nah I don't think he goes to usf, he lives aro..."
            ]
          },
          "metadata": {
            "tags": []
          },
          "execution_count": 4
        }
      ]
    },
    {
      "cell_type": "code",
      "metadata": {
        "colab": {
          "base_uri": "https://localhost:8080/",
          "height": 142
        },
        "id": "9TcTHVsxtvCr",
        "outputId": "c96f4e46-9e6e-45e7-9750-a179ce8179e9"
      },
      "source": [
        "# check how many spams and hams\n",
        "sms_data.groupby(\"label\").count()"
      ],
      "execution_count": 5,
      "outputs": [
        {
          "output_type": "execute_result",
          "data": {
            "text/html": [
              "<div>\n",
              "<style scoped>\n",
              "    .dataframe tbody tr th:only-of-type {\n",
              "        vertical-align: middle;\n",
              "    }\n",
              "\n",
              "    .dataframe tbody tr th {\n",
              "        vertical-align: top;\n",
              "    }\n",
              "\n",
              "    .dataframe thead th {\n",
              "        text-align: right;\n",
              "    }\n",
              "</style>\n",
              "<table border=\"1\" class=\"dataframe\">\n",
              "  <thead>\n",
              "    <tr style=\"text-align: right;\">\n",
              "      <th></th>\n",
              "      <th>content</th>\n",
              "    </tr>\n",
              "    <tr>\n",
              "      <th>label</th>\n",
              "      <th></th>\n",
              "    </tr>\n",
              "  </thead>\n",
              "  <tbody>\n",
              "    <tr>\n",
              "      <th>ham</th>\n",
              "      <td>4825</td>\n",
              "    </tr>\n",
              "    <tr>\n",
              "      <th>spam</th>\n",
              "      <td>747</td>\n",
              "    </tr>\n",
              "  </tbody>\n",
              "</table>\n",
              "</div>"
            ],
            "text/plain": [
              "       content\n",
              "label         \n",
              "ham       4825\n",
              "spam       747"
            ]
          },
          "metadata": {
            "tags": []
          },
          "execution_count": 5
        }
      ]
    },
    {
      "cell_type": "code",
      "metadata": {
        "id": "lANwil1ftvCr"
      },
      "source": [
        "# change label to from string to number\n",
        "# \"ham\" --> 0, \"spam\" --> 1\n",
        "sms_data.loc[sms_data.loc[:, \"label\"] == \"spam\", \"label\"] = 1\n",
        "sms_data.loc[sms_data.loc[:, \"label\"] == \"ham\", \"label\"] = 0"
      ],
      "execution_count": 6,
      "outputs": []
    },
    {
      "cell_type": "markdown",
      "metadata": {
        "id": "PaOeJom6tvCr"
      },
      "source": [
        "### 切分資料\n",
        "將資料依據label比例切分為training data與testing data"
      ]
    },
    {
      "cell_type": "code",
      "metadata": {
        "colab": {
          "base_uri": "https://localhost:8080/"
        },
        "id": "ZU7hsBM0tvCr",
        "outputId": "b49a6694-03f5-4594-f344-a00c24fe414f"
      },
      "source": [
        "sms_train, sms_test = train_test_split(sms_data, test_size=0.2, stratify=sms_data.label)\n",
        "sms_train.reset_index(inplace=True, drop=True)\n",
        "sms_test.reset_index(inplace=True, drop=True)\n",
        "\n",
        "print(sms_train.groupby(\"label\").count())\n",
        "print(sms_test.groupby(\"label\").count())"
      ],
      "execution_count": 8,
      "outputs": [
        {
          "output_type": "stream",
          "text": [
            "       content\n",
            "label         \n",
            "0         3859\n",
            "1          598\n",
            "       content\n",
            "label         \n",
            "0          966\n",
            "1          149\n"
          ],
          "name": "stdout"
        }
      ]
    },
    {
      "cell_type": "markdown",
      "metadata": {
        "id": "kgwtPUY2tvCr"
      },
      "source": [
        "### 資料預處理\n",
        "* 將所有字詞轉為小寫\n",
        "* 移除所有數字、標點符號"
      ]
    },
    {
      "cell_type": "code",
      "metadata": {
        "scrolled": true,
        "colab": {
          "base_uri": "https://localhost:8080/"
        },
        "id": "uNw4M4mJtvCs",
        "outputId": "226cdc4d-d820-44d7-a1c9-07842aff61ee"
      },
      "source": [
        "def preprocess(df: pd.DataFrame) -> pd.DataFrame:\n",
        "    \n",
        "    for i in range(len(df)):\n",
        "        # make all content to lowercase\n",
        "        content = df.loc[i, \"content\"].lower()\n",
        "\n",
        "        # remove all punctuations\n",
        "        content = \" \".join([word for word in re.findall(r\"[a-zA-Z]*\", content) if word != \"\"])\n",
        "        df.loc[i, \"content\"] = content\n",
        "    \n",
        "    return df\n",
        "\n",
        "processed_train = preprocess(sms_train)\n",
        "processed_test = preprocess(sms_test)\n",
        "\n",
        "print(\"Train:\")\n",
        "print(processed_train.head())\n",
        "print(\"Test:\")\n",
        "print(processed_test.head())"
      ],
      "execution_count": 9,
      "outputs": [
        {
          "output_type": "stream",
          "text": [
            "/usr/local/lib/python3.6/dist-packages/pandas/core/indexing.py:670: SettingWithCopyWarning: \n",
            "A value is trying to be set on a copy of a slice from a DataFrame\n",
            "\n",
            "See the caveats in the documentation: https://pandas.pydata.org/pandas-docs/stable/user_guide/indexing.html#returning-a-view-versus-a-copy\n",
            "  iloc._setitem_with_indexer(indexer, value)\n",
            "/usr/local/lib/python3.6/dist-packages/ipykernel_launcher.py:9: SettingWithCopyWarning: \n",
            "A value is trying to be set on a copy of a slice from a DataFrame\n",
            "\n",
            "See the caveats in the documentation: https://pandas.pydata.org/pandas-docs/stable/user_guide/indexing.html#returning-a-view-versus-a-copy\n",
            "  if __name__ == '__main__':\n"
          ],
          "name": "stderr"
        },
        {
          "output_type": "stream",
          "text": [
            "Train:\n",
            "  label                                            content\n",
            "0     1  dear voucher holder have your next meal on us ...\n",
            "1     0               they finally came to fix the ceiling\n",
            "2     0                                             ok lor\n",
            "3     0                no message no responce what happend\n",
            "4     0     cool we will have fun practicing making babies\n",
            "Test:\n",
            "  label                                            content\n",
            "0     0  an excellent thought by a misundrstud frnd i k...\n",
            "1     0  the fact that you re cleaning shows you know w...\n",
            "2     0  should i have picked up a receipt or something...\n",
            "3     0         still work going on it is very small house\n",
            "4     0  the oz guy is being kinda flaky but one friend...\n"
          ],
          "name": "stdout"
        }
      ]
    },
    {
      "cell_type": "code",
      "metadata": {
        "colab": {
          "base_uri": "https://localhost:8080/"
        },
        "id": "hk_3n8SztvCs",
        "outputId": "845f2fd3-2312-4fa5-e7ed-44cf3d9c434b"
      },
      "source": [
        "# split data into x_train, y_train, x_test, y_test\n",
        "y_train, x_train = zip(*processed_train.values)\n",
        "y_test, x_test = zip(*processed_test.values)\n",
        "\n",
        "# check numbers of unique word in the corpus\n",
        "len(set(\" \".join(list(x_train + x_test)).split()))"
      ],
      "execution_count": 10,
      "outputs": [
        {
          "output_type": "execute_result",
          "data": {
            "text/plain": [
              "7708"
            ]
          },
          "metadata": {
            "tags": []
          },
          "execution_count": 10
        }
      ]
    },
    {
      "cell_type": "markdown",
      "metadata": {
        "id": "aPwphZimtvCs"
      },
      "source": [
        "### TF-IDF\n",
        "可以發現種共有7708個字詞，這裡使用TF-IDF將來選取最高分的前2000個字詞\n",
        "(若忘記的學員可參考先前TF-IDF課程章節或[此篇教學](https://ithelp.ithome.com.tw/articles/10228815?sc=iThelpR))"
      ]
    },
    {
      "cell_type": "code",
      "metadata": {
        "colab": {
          "base_uri": "https://localhost:8080/"
        },
        "id": "sjGfjRaxtvCs",
        "outputId": "df18f75f-3acc-47bf-f495-51d907f3e26c"
      },
      "source": [
        "vectorizer = TfidfVectorizer(max_features=2000)\n",
        "vectorizer.fit(x_train)\n",
        "tfidf_train = vectorizer.transform(x_train)\n",
        "tfidf_test = vectorizer.transform(x_test)\n",
        "\n",
        "print(f\"Number of unique word: {len(vectorizer.vocabulary_)}\")\n",
        "(tfidf_train, tfidf_test)"
      ],
      "execution_count": 11,
      "outputs": [
        {
          "output_type": "stream",
          "text": [
            "Number of unique word: 2000\n"
          ],
          "name": "stdout"
        },
        {
          "output_type": "execute_result",
          "data": {
            "text/plain": [
              "(<4457x2000 sparse matrix of type '<class 'numpy.float64'>'\n",
              " \twith 51002 stored elements in Compressed Sparse Row format>,\n",
              " <1115x2000 sparse matrix of type '<class 'numpy.float64'>'\n",
              " \twith 12472 stored elements in Compressed Sparse Row format>)"
            ]
          },
          "metadata": {
            "tags": []
          },
          "execution_count": 11
        }
      ]
    },
    {
      "cell_type": "markdown",
      "metadata": {
        "id": "mXu0q8Q9tvCs"
      },
      "source": [
        "### 建立共現矩陣"
      ]
    },
    {
      "cell_type": "code",
      "metadata": {
        "colab": {
          "base_uri": "https://localhost:8080/"
        },
        "id": "d96EHSVhtvCs",
        "outputId": "f03b207d-4718-424b-d72a-aeb61a620548"
      },
      "source": [
        "def create_co_matrix(corpus: List[str], vocab_list: List[str], word2idx: dict,\n",
        "                     window_size: int=1, use_weighting: bool=False, verbose: bool=False) -> np.ndarray:\n",
        "    '''Function to create co-occurrence matrix\n",
        "    '''\n",
        "    #initialize co-occurrence matrix\n",
        "    vocab_size = len(vocab_list)\n",
        "    co_matrix = np.zeros(shape=(vocab_size, vocab_size))\n",
        "    \n",
        "    for idx, sms in enumerate(corpus):\n",
        "        sms = sms.split()\n",
        "        sms_ids = [word2idx[word] for word in sms if word in vocab_list] #tokenize\n",
        "        \n",
        "        for center_i, center_word_id in enumerate(sms_ids):\n",
        "            context_ids = sms_ids[max(0, center_i - window_size):center_word_id]\n",
        "            content_len = len(context_ids)\n",
        "            \n",
        "            for left_i, left_word_id in enumerate(context_ids):\n",
        "                \n",
        "                if use_weighting:\n",
        "                    distance = content_len - left_i\n",
        "                    increment = 1./float(distance)\n",
        "                else:\n",
        "                    increment = 1\n",
        "                    \n",
        "                co_matrix[center_word_id, left_word_id] += increment\n",
        "                co_matrix[left_word_id, center_word_id] += increment\n",
        "        \n",
        "        if verbose:\n",
        "            if idx != 0 and idx%500 == 0:\n",
        "                    print(f\"finishing {idx+1}/{len(corpus)}\")\n",
        "    print(\"Done\")\n",
        "    if use_weighting:\n",
        "        # if use weighting, then we set the co-occurrence with the word itself to 1.0\n",
        "        np.fill_diagonal(co_matrix, 1.)\n",
        "        \n",
        "    return co_matrix\n",
        "\n",
        "co_matrix = create_co_matrix(x_train, vectorizer.get_feature_names(), vectorizer.vocabulary_,\n",
        "                            window_size=3, use_weighting=True, verbose=True)\n",
        "\n",
        "co_matrix"
      ],
      "execution_count": 12,
      "outputs": [
        {
          "output_type": "stream",
          "text": [
            "finishing 501/4457\n",
            "finishing 1001/4457\n",
            "finishing 1501/4457\n",
            "finishing 2001/4457\n",
            "finishing 2501/4457\n",
            "finishing 3001/4457\n",
            "finishing 3501/4457\n",
            "finishing 4001/4457\n",
            "Done\n"
          ],
          "name": "stdout"
        },
        {
          "output_type": "execute_result",
          "data": {
            "text/plain": [
              "array([[1., 0., 0., ..., 0., 0., 0.],\n",
              "       [0., 1., 0., ..., 0., 0., 0.],\n",
              "       [0., 0., 1., ..., 0., 0., 0.],\n",
              "       ...,\n",
              "       [0., 0., 0., ..., 1., 0., 0.],\n",
              "       [0., 0., 0., ..., 0., 1., 0.],\n",
              "       [0., 0., 0., ..., 0., 0., 1.]])"
            ]
          },
          "metadata": {
            "tags": []
          },
          "execution_count": 12
        }
      ]
    },
    {
      "cell_type": "markdown",
      "metadata": {
        "id": "XZoTEKXwtvCs"
      },
      "source": [
        "### 建立PPMI矩陣"
      ]
    },
    {
      "cell_type": "code",
      "metadata": {
        "colab": {
          "base_uri": "https://localhost:8080/"
        },
        "id": "kmyojLHrtvCs",
        "outputId": "1c58c186-0ac3-4442-8ba2-b5dfd6f65417"
      },
      "source": [
        "#定義正向點間互資訊\n",
        "\n",
        "def ppmi(co_matrix: np.ndarray, eps: float=1e-8, verbose: bool=False):\n",
        "    M = np.zeros_like(co_matrix, dtype=np.float32)\n",
        "    N = np.sum(co_matrix)\n",
        "    S = np.sum(co_matrix, axis=0)\n",
        "    total = co_matrix.shape[0]*co_matrix.shape[1]\n",
        "\n",
        "    cnt = 0\n",
        "    \n",
        "    for i in range(co_matrix.shape[0]):\n",
        "        for j in range(co_matrix.shape[1]):\n",
        "            pmi = np.log2(co_matrix[i, j]*N / (S[i]*S[j] + eps))\n",
        "            M[i, j] = max(0, pmi)\n",
        "            \n",
        "            if verbose:\n",
        "                cnt += 1\n",
        "                if cnt % 10 == 0 or cnt == total:\n",
        "                    print(f\"{cnt}/{total} Done\")\n",
        "    \n",
        "    return M\n",
        "\n",
        "ppmi_matrix = ppmi(co_matrix, verbose=False)\n",
        "ppmi_matrix"
      ],
      "execution_count": 13,
      "outputs": [
        {
          "output_type": "stream",
          "text": [
            "/usr/local/lib/python3.6/dist-packages/ipykernel_launcher.py:13: RuntimeWarning: divide by zero encountered in log2\n",
            "  del sys.path[0]\n"
          ],
          "name": "stderr"
        },
        {
          "output_type": "execute_result",
          "data": {
            "text/plain": [
              "array([[12.943158 ,  0.       ,  0.       , ...,  0.       ,  0.       ,\n",
              "         0.       ],\n",
              "       [ 0.       ,  9.584522 ,  0.       , ...,  0.       ,  0.       ,\n",
              "         0.       ],\n",
              "       [ 0.       ,  0.       ,  3.6741211, ...,  0.       ,  0.       ,\n",
              "         0.       ],\n",
              "       ...,\n",
              "       [ 0.       ,  0.       ,  0.       , ...,  9.8721   ,  0.       ,\n",
              "         0.       ],\n",
              "       [ 0.       ,  0.       ,  0.       , ...,  0.       ,  4.678125 ,\n",
              "         0.       ],\n",
              "       [ 0.       ,  0.       ,  0.       , ...,  0.       ,  0.       ,\n",
              "         7.583571 ]], dtype=float32)"
            ]
          },
          "metadata": {
            "tags": []
          },
          "execution_count": 13
        }
      ]
    },
    {
      "cell_type": "markdown",
      "metadata": {
        "id": "Md0IPINctvCt"
      },
      "source": [
        "### 使用SVD降維\n",
        "利用sklearn中的TruncatedSVD對co-occurrence matrix進行降維，並利用variance來找出最適合的維度\n",
        "[參考文獻](https://medium.com/swlh/truncated-singular-value-decomposition-svd-using-amazon-food-reviews-891d97af5d8d)"
      ]
    },
    {
      "cell_type": "code",
      "metadata": {
        "colab": {
          "base_uri": "https://localhost:8080/",
          "height": 533
        },
        "id": "GRbTSElptvCu",
        "outputId": "95fda67a-9ecb-4471-8cd3-85b740eb1c6f"
      },
      "source": [
        "# Program to find the optimal number of components for Truncated SVD\n",
        "n_comp = range(10,150,10) # list containing different values of components\n",
        "variance_sum = [] # explained variance ratio for each component of Truncated SVD\n",
        "\n",
        "for dim in n_comp:\n",
        "    svd = TruncatedSVD(n_components=dim)\n",
        "    svd.fit(co_matrix)\n",
        "    variance_sum.append(svd.explained_variance_ratio_.sum())\n",
        "    print(f\"Number of components = {dim} and explained variance = {svd.explained_variance_ratio_.sum()}\")\n",
        "    \n",
        "plt.plot(n_comp, variance_sum)\n",
        "plt.xlabel('Number of components')\n",
        "plt.ylabel(\"Explained Variance\")\n",
        "plt.title(\"Plot of Number of components v/s explained variance\")\n",
        "plt.show()"
      ],
      "execution_count": 14,
      "outputs": [
        {
          "output_type": "stream",
          "text": [
            "Number of components = 10 and explained variance = 0.8611037769746377\n",
            "Number of components = 20 and explained variance = 0.8963973135150997\n",
            "Number of components = 30 and explained variance = 0.914569135147756\n",
            "Number of components = 40 and explained variance = 0.9267814681325544\n",
            "Number of components = 50 and explained variance = 0.9358864284337622\n",
            "Number of components = 60 and explained variance = 0.9432172042718896\n",
            "Number of components = 70 and explained variance = 0.9492450827082648\n",
            "Number of components = 80 and explained variance = 0.9542055250280724\n",
            "Number of components = 90 and explained variance = 0.9583875758950204\n",
            "Number of components = 100 and explained variance = 0.9619901293514882\n",
            "Number of components = 110 and explained variance = 0.9650484978699827\n",
            "Number of components = 120 and explained variance = 0.9677905884310389\n",
            "Number of components = 130 and explained variance = 0.9702345100541396\n",
            "Number of components = 140 and explained variance = 0.97241046934824\n"
          ],
          "name": "stdout"
        },
        {
          "output_type": "display_data",
          "data": {
            "image/png": "[encoded data removed]",
            "text/plain": [
              "<Figure size 432x288 with 1 Axes>"
            ]
          },
          "metadata": {
            "tags": [],
            "needs_background": "light"
          }
        }
      ]
    },
    {
      "cell_type": "code",
      "metadata": {
        "id": "252U_U6_tvCu"
      },
      "source": [
        "# choose 140 as final dimension to reduce to\n",
        "svd = TruncatedSVD(n_components=140)\n",
        "svd.fit(co_matrix)\n",
        "re_co_matrix = svd.transform(co_matrix)"
      ],
      "execution_count": 15,
      "outputs": []
    },
    {
      "cell_type": "markdown",
      "metadata": {
        "id": "VNpQoDqetvCv"
      },
      "source": [
        "### 使用KNN模型進行分類\n",
        "在進行分類之前，先利用簡單的詞向量平均來計算文本向量\n",
        "\n",
        "[參考文獻](https://medium.com/ai-academy-taiwan/nlp-%E4%B8%8D%E5%90%8C%E8%A9%9E%E5%90%91%E9%87%8F%E5%9C%A8%E6%96%87%E6%9C%AC%E5%88%86%E9%A1%9E%E4%B8%8A%E7%9A%84%E8%A1%A8%E7%8F%BE%E8%88%87%E5%AF%A6%E4%BD%9C-e72a2daecfc)"
      ]
    },
    {
      "cell_type": "code",
      "metadata": {
        "scrolled": true,
        "colab": {
          "base_uri": "https://localhost:8080/"
        },
        "id": "5ns7_3WQtvCv",
        "outputId": "a421088f-8be6-4170-f0df-a5ad49479dcb"
      },
      "source": [
        "# get doc vector via take mean of all word vectors inside the corresponding document\n",
        "\n",
        "def make_doc_vectors(corpus: List[str], word2idx: dict, vocab_list: List) -> List[np.ndarray]:\n",
        "    \n",
        "    # vectorizing data \n",
        "    # and make document vector by take mean to all word vecto\n",
        "    doc_vec = []\n",
        "    empty_doc_list = []\n",
        "    for i, sms_msg in enumerate(corpus):\n",
        "        sms_msg = [word2idx[word] for word in sms_msg.split() if word in vocab_list] #tokenize\n",
        "        if len(sms_msg) > 0:\n",
        "            sms_msg = np.array([re_co_matrix[ids] for ids in sms_msg]) #vectorize\n",
        "            doc_vec.append(sms_msg.mean(axis=0))\n",
        "        else:\n",
        "            empty_doc_list.append(i)\n",
        "            print(f\"document {i} doesn't contain word in vocab_list\")\n",
        "            print(corpus[i])\n",
        "            print(\"\\n\")\n",
        "        \n",
        "    return np.vstack(doc_vec), empty_doc_list\n",
        "\n",
        "word2idx = vectorizer.vocabulary_\n",
        "vocab_list = vectorizer.get_feature_names()\n",
        "\n",
        "doc_vec_train, missing_train_list = make_doc_vectors(x_train, word2idx, vocab_list)\n",
        "print(\"=\"*50)\n",
        "doc_vec_test, missing_test_list = make_doc_vectors(x_test, word2idx, vocab_list)"
      ],
      "execution_count": 16,
      "outputs": [
        {
          "output_type": "stream",
          "text": [
            "document 136 doesn't contain word in vocab_list\n",
            "\n",
            "\n",
            "\n",
            "document 622 doesn't contain word in vocab_list\n",
            "ringtoneking\n",
            "\n",
            "\n",
            "document 715 doesn't contain word in vocab_list\n",
            "k k congratulation\n",
            "\n",
            "\n",
            "document 2263 doesn't contain word in vocab_list\n",
            "\n",
            "\n",
            "\n",
            "document 2464 doesn't contain word in vocab_list\n",
            "raviyog peripherals bhayandar east\n",
            "\n",
            "\n",
            "document 2666 doesn't contain word in vocab_list\n",
            "u\n",
            "\n",
            "\n",
            "document 3185 doesn't contain word in vocab_list\n",
            "garbage bags eggs jam bread hannaford wheat chex\n",
            "\n",
            "\n",
            "document 3235 doesn't contain word in vocab_list\n",
            "audrie lousy autocorrect\n",
            "\n",
            "\n",
            "document 3247 doesn't contain word in vocab_list\n",
            "g w r\n",
            "\n",
            "\n",
            "document 3702 doesn't contain word in vocab_list\n",
            "ultimately tor motive tui achieve korli\n",
            "\n",
            "\n",
            "document 4134 doesn't contain word in vocab_list\n",
            "hanks lotsly\n",
            "\n",
            "\n",
            "document 4274 doesn't contain word in vocab_list\n",
            "\n",
            "\n",
            "\n",
            "document 4313 doesn't contain word in vocab_list\n",
            "east coast\n",
            "\n",
            "\n",
            "==================================================\n",
            "document 87 doesn't contain word in vocab_list\n",
            "erutupalam thandiyachu\n",
            "\n",
            "\n",
            "document 491 doesn't contain word in vocab_list\n",
            "tf p\n",
            "\n",
            "\n",
            "document 968 doesn't contain word in vocab_list\n",
            "beerage\n",
            "\n",
            "\n"
          ],
          "name": "stdout"
        }
      ]
    },
    {
      "cell_type": "code",
      "metadata": {
        "id": "y4xmHKYvtvCv"
      },
      "source": [
        "from sklearn.neighbors import KNeighborsClassifier\n",
        "\n",
        "# training\n",
        "y_train_filter = np.delete(np.array(y_train), missing_train_list)\n",
        "\n",
        "knn = KNeighborsClassifier(n_neighbors=5)\n",
        "knn.fit(doc_vec_train, y_train_filter)\n",
        "train_pred = knn.predict(doc_vec_train)\n",
        "\n",
        "# testing\n",
        "y_test_filter = np.delete(np.array(y_test), missing_test_list)\n",
        "test_pred = knn.predict(doc_vec_test)"
      ],
      "execution_count": 17,
      "outputs": []
    },
    {
      "cell_type": "code",
      "metadata": {
        "colab": {
          "base_uri": "https://localhost:8080/"
        },
        "id": "4EmIddIEtvCv",
        "outputId": "ec9bebdc-a8e2-4a4c-c440-94f26e3cdb2c"
      },
      "source": [
        "print(f\"train acc: {np.sum(train_pred == y_train_filter) / len(y_train_filter)}\")\n",
        "print(f\"train acc: {np.sum(test_pred == y_test_filter) / len(y_test_filter)}\")"
      ],
      "execution_count": 18,
      "outputs": [
        {
          "output_type": "stream",
          "text": [
            "train acc: 0.972997299729973\n",
            "train acc: 0.9649280575539568\n"
          ],
          "name": "stdout"
        }
      ]
    }
  ]
}