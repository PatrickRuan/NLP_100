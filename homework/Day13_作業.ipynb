{
  "nbformat": 4,
  "nbformat_minor": 0,
  "metadata": {
    "kernelspec": {
      "display_name": "Python 3",
      "language": "python",
      "name": "python3"
    },
    "language_info": {
      "codemirror_mode": {
        "name": "ipython",
        "version": 3
      },
      "file_extension": ".py",
      "mimetype": "text/x-python",
      "name": "python",
      "nbconvert_exporter": "python",
      "pygments_lexer": "ipython3",
      "version": "3.7.4"
    },
    "colab": {
      "name": "Day13 - 作業.ipynb",
      "provenance": [],
      "collapsed_sections": [],
      "include_colab_link": true
    }
  },
  "cells": [
    {
      "cell_type": "markdown",
      "metadata": {
        "id": "view-in-github",
        "colab_type": "text"
      },
      "source": [
        "<a href=\"https://colab.research.google.com/github/PatrickRuan/NLP_100/blob/main/homework/Day13_%E4%BD%9C%E6%A5%AD.ipynb\" target=\"_parent\"><img src=\"https://colab.research.google.com/assets/colab-badge.svg\" alt=\"Open In Colab\"/></a>"
      ]
    },
    {
      "cell_type": "code",
      "metadata": {
        "id": "NVrmOYel3fr3",
        "colab": {
          "base_uri": "https://localhost:8080/"
        },
        "outputId": "bf021c00-9968-46e5-ab83-8c22289eb15f"
      },
      "source": [
        "from nltk.stem import WordNetLemmatizer \n",
        "from nltk.stem.porter import PorterStemmer\n",
        "import nltk\n",
        "nltk.download('wordnet')\n",
        "\n",
        "## 創建stemmer\n",
        "ps=PorterStemmer()\n",
        "\n",
        "## 創建Lemmatizer\n",
        "lemmatizer = WordNetLemmatizer() "
      ],
      "execution_count": 1,
      "outputs": [
        {
          "output_type": "stream",
          "text": [
            "[nltk_data] Downloading package wordnet to /root/nltk_data...\n",
            "[nltk_data]   Unzipping corpora/wordnet.zip.\n"
          ],
          "name": "stdout"
        }
      ]
    },
    {
      "cell_type": "markdown",
      "metadata": {
        "id": "2-l1inE83fr8"
      },
      "source": [
        "### example"
      ]
    },
    {
      "cell_type": "code",
      "metadata": {
        "id": "8yJyFI9w3fr9",
        "colab": {
          "base_uri": "https://localhost:8080/"
        },
        "outputId": "6a6278b5-49b0-4799-d8f7-9769a33ecaff"
      },
      "source": [
        "print('Stemming amusing : {}'.format(ps.stem('amusing')))\n",
        "print('lemmatization amusing : {}'.format(lemmatizer.lemmatize('amusing',pos = 'v')))"
      ],
      "execution_count": 2,
      "outputs": [
        {
          "output_type": "stream",
          "text": [
            "Stemming amusing : amus\n",
            "lemmatization amusing : amuse\n"
          ],
          "name": "stdout"
        }
      ]
    },
    {
      "cell_type": "markdown",
      "metadata": {
        "id": "_J3qUMCw3fsG"
      },
      "source": [
        "### 運用tokenize技巧結合stemming提取每個單詞的詞幹"
      ]
    },
    {
      "cell_type": "code",
      "metadata": {
        "id": "uAm0oE5s3fsJ",
        "colab": {
          "base_uri": "https://localhost:8080/"
        },
        "outputId": "733f7e1e-9c41-4c01-ccf0-a86f88963eea"
      },
      "source": [
        "nltk.download('punkt')\n",
        "# Define the sentence to be lemmatized\n",
        "sentence = \"The striped bats are hanging on their feet for best\"\n",
        "\n",
        "# Tokenize: Split the sentence into words\n",
        "word_list = nltk.word_tokenize(sentence)\n",
        "print(word_list)\n",
        "#> ['The', 'striped', 'bats', 'are', 'hanging', 'on', 'their', 'feet', 'for', 'best']\n",
        "\n",
        "# stemming_output = ' '.join([\"自行填入\" for w in word_list])\n",
        "stemming_output = ' '.join([ps.stem(w) for w in word_list])\n",
        "\n",
        "print(stemming_output)\n",
        "#> The striped bat are hanging on their foot for best"
      ],
      "execution_count": 12,
      "outputs": [
        {
          "output_type": "stream",
          "text": [
            "[nltk_data] Downloading package punkt to /root/nltk_data...\n",
            "[nltk_data]   Package punkt is already up-to-date!\n",
            "['The', 'striped', 'bats', 'are', 'hanging', 'on', 'their', 'feet', 'for', 'best']\n",
            "the stripe bat are hang on their feet for best\n"
          ],
          "name": "stdout"
        }
      ]
    },
    {
      "cell_type": "markdown",
      "metadata": {
        "id": "SNFPOGHs3fsM"
      },
      "source": [
        "### 運用tokenize技巧結合lemmatize提取每個單詞的lemma"
      ]
    },
    {
      "cell_type": "code",
      "metadata": {
        "id": "rBrFYGqL3fsN",
        "colab": {
          "base_uri": "https://localhost:8080/"
        },
        "outputId": "b5d799fb-0666-4e61-af14-ec669ec83d3f"
      },
      "source": [
        "# Define the sentence to be lemmatized\n",
        "sentence = \"The striped bats are hanging on their feet for best\"\n",
        "\n",
        "# Tokenize: Split the sentence into words\n",
        "word_list = nltk.word_tokenize(sentence)\n",
        "print(word_list)\n",
        "#> ['The', 'striped', 'bats', 'are', 'hanging', 'on', 'their', 'feet', 'for', 'best']\n",
        "\n",
        "# Lemmatize list of words and join\n",
        "#lemmatized_output = ' '.join([\"自行填入\" for w in word_list])\n",
        "lemmatized_output = ' '.join([lemmatizer.lemmatize(w) for w in word_list])\n",
        "\n",
        "print(lemmatized_output)\n",
        "#> The striped bat are hanging on their foot for best"
      ],
      "execution_count": 13,
      "outputs": [
        {
          "output_type": "stream",
          "text": [
            "['The', 'striped', 'bats', 'are', 'hanging', 'on', 'their', 'feet', 'for', 'best']\n",
            "The striped bat are hanging on their foot for best\n"
          ],
          "name": "stdout"
        }
      ]
    },
    {
      "cell_type": "code",
      "metadata": {
        "id": "vnyjvW2B67wk"
      },
      "source": [
        ""
      ],
      "execution_count": null,
      "outputs": []
    },
    {
      "cell_type": "markdown",
      "metadata": {
        "id": "zIf7thBM68-V"
      },
      "source": [
        "Input:　The striped bats are hanging on their feet for best\n",
        "\n",
        "Stem: the stripe bat are hang on their feet for best\n",
        "Lemma: The striped bat are hanging on their foot for best\n",
        "\n"
      ]
    },
    {
      "cell_type": "markdown",
      "metadata": {
        "id": "rBeGArMk3fsQ"
      },
      "source": [
        "### 有時單詞的lemma會隨著詞性而有所改變"
      ]
    },
    {
      "cell_type": "code",
      "metadata": {
        "id": "vz0BFRWU3fsR",
        "colab": {
          "base_uri": "https://localhost:8080/"
        },
        "outputId": "77b556ac-0e98-402e-f619-e851576f9a87"
      },
      "source": [
        "print('lemmatization amusing : {}'.format(lemmatizer.lemmatize('amusing',pos = 'v'))) ##動詞\n",
        "print('lemmatization amusing : {}'.format(lemmatizer.lemmatize('amusing',pos = 'a'))) ##形容詞"
      ],
      "execution_count": 6,
      "outputs": [
        {
          "output_type": "stream",
          "text": [
            "lemmatization amusing : amuse\n",
            "lemmatization amusing : amusing\n"
          ],
          "name": "stdout"
        }
      ]
    },
    {
      "cell_type": "markdown",
      "metadata": {
        "id": "g4OE2nNX3fsV"
      },
      "source": [
        "### 運用pos_tag技巧結合lemmatize提取每個單詞的lemma"
      ]
    },
    {
      "cell_type": "code",
      "metadata": {
        "id": "YAgB-rrY3fsW",
        "colab": {
          "base_uri": "https://localhost:8080/"
        },
        "outputId": "b8e4e940-8d25-4803-f4f5-bb63e246ae00"
      },
      "source": [
        "# Lemmatize with POS Tag\n",
        "from nltk.corpus import wordnet\n",
        "\n",
        "nltk.download('averaged_perceptron_tagger')\n",
        "\n",
        "def get_wordnet_pos(word):\n",
        "    \"\"\"將pos_tag結果mapping到lemmatizer中pos的格式\"\"\"\n",
        "    tag = nltk.pos_tag([word])[0][1][0].upper()\n",
        "    tag_dict = {\"J\": wordnet.ADJ,\n",
        "                \"N\": wordnet.NOUN,\n",
        "                \"V\": wordnet.VERB,\n",
        "                \"R\": wordnet.ADV}\n",
        "\n",
        "    return tag_dict.get(tag, wordnet.NOUN)\n"
      ],
      "execution_count": 10,
      "outputs": [
        {
          "output_type": "stream",
          "text": [
            "[nltk_data] Downloading package averaged_perceptron_tagger to\n",
            "[nltk_data]     /root/nltk_data...\n",
            "[nltk_data]   Unzipping taggers/averaged_perceptron_tagger.zip.\n"
          ],
          "name": "stdout"
        }
      ]
    },
    {
      "cell_type": "code",
      "metadata": {
        "id": "zUgGlulL3fsZ",
        "colab": {
          "base_uri": "https://localhost:8080/"
        },
        "outputId": "8e8315d4-95fc-4cec-ebc2-d00b2f688732"
      },
      "source": [
        "word = 'using'\n",
        "print(lemmatizer.lemmatize(word, get_wordnet_pos(word)))"
      ],
      "execution_count": 11,
      "outputs": [
        {
          "output_type": "stream",
          "text": [
            "use\n"
          ],
          "name": "stdout"
        }
      ]
    },
    {
      "cell_type": "markdown",
      "metadata": {
        "id": "tKKytjJN3fsc"
      },
      "source": [
        "### Lemmatize 字串中每個單詞並加入 POS tag"
      ]
    },
    {
      "cell_type": "code",
      "metadata": {
        "id": "F8oNe6_C3fsc",
        "colab": {
          "base_uri": "https://localhost:8080/"
        },
        "outputId": "03b86ab1-5e3f-4804-b346-dd0cb5fadeee"
      },
      "source": [
        "sentence = \"The striped bats are hanging on their feet for best\"\n",
        "#print(\"自行填入\")\n",
        "print([lemmatizer.lemmatize(w, get_wordnet_pos(w)) for w in nltk.word_tokenize(sentence)])\n",
        "\n",
        "#> ['The', 'strip', 'bat', 'be', 'hang', 'on', 'their', 'foot', 'for', 'best']"
      ],
      "execution_count": 14,
      "outputs": [
        {
          "output_type": "stream",
          "text": [
            "['The', 'strip', 'bat', 'be', 'hang', 'on', 'their', 'foot', 'for', 'best']\n"
          ],
          "name": "stdout"
        }
      ]
    },
    {
      "cell_type": "code",
      "metadata": {
        "id": "uYsHK-Hg3fsf"
      },
      "source": [
        ""
      ],
      "execution_count": null,
      "outputs": []
    }
  ]
}