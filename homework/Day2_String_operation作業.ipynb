{
  "nbformat": 4,
  "nbformat_minor": 0,
  "metadata": {
    "kernelspec": {
      "display_name": "Python 3",
      "language": "python",
      "name": "python3"
    },
    "language_info": {
      "codemirror_mode": {
        "name": "ipython",
        "version": 3
      },
      "file_extension": ".py",
      "mimetype": "text/x-python",
      "name": "python",
      "nbconvert_exporter": "python",
      "pygments_lexer": "ipython3",
      "version": "3.7.4"
    },
    "colab": {
      "name": "Day2- String operation作業.ipynb",
      "provenance": [],
      "collapsed_sections": [],
      "include_colab_link": true
    }
  },
  "cells": [
    {
      "cell_type": "markdown",
      "metadata": {
        "id": "view-in-github",
        "colab_type": "text"
      },
      "source": [
        "<a href=\"https://colab.research.google.com/github/PatrickRuan/NLP_100/blob/main/homework/Day2_String_operation%E4%BD%9C%E6%A5%AD.ipynb\" target=\"_parent\"><img src=\"https://colab.research.google.com/assets/colab-badge.svg\" alt=\"Open In Colab\"/></a>"
      ]
    },
    {
      "cell_type": "markdown",
      "metadata": {
        "id": "1FOFM0G4Nolu"
      },
      "source": [
        "# 作業目標：運用課程所學，操作字串達到預期輸出"
      ]
    },
    {
      "cell_type": "markdown",
      "metadata": {
        "id": "b4HbaOr4Noly"
      },
      "source": [
        "---"
      ]
    },
    {
      "cell_type": "markdown",
      "metadata": {
        "id": "u_1oCpR5Nol0"
      },
      "source": [
        "### isnumeric(), isdigit(), isdecimal() 各有幾個"
      ]
    },
    {
      "cell_type": "code",
      "metadata": {
        "id": "7l5UcJvzNol2"
      },
      "source": [
        "test_string = ['5.9', '30', '½', '³', '⑬']"
      ],
      "execution_count": 52,
      "outputs": []
    },
    {
      "cell_type": "code",
      "metadata": {
        "id": "ANtrdfiKNol9",
        "outputId": "f30fcc17-9e5f-45fa-ad7b-a3cd6d7dea03",
        "colab": {
          "base_uri": "https://localhost:8080/"
        }
      },
      "source": [
        "def spam(s, isnumeric_count, isdigit_count, isdecimal_count):\n",
        "  for attr in ['isnumeric', 'isdecimal', 'isdigit']:\n",
        "    if attr == 'isnumeric':\n",
        "      if getattr(s, attr)():\n",
        "        isnumeric_count += 1\n",
        "    if attr == 'isdecimal':\n",
        "      if getattr(s, attr)():\n",
        "        isdecimal_count += 1\n",
        "    if attr == 'isdigit':\n",
        "      if getattr(s, attr)():\n",
        "        isdigit_count += 1\n",
        "  return  isnumeric_count, isdigit_count, isdecimal_count\n",
        "\n",
        "isnumeric_count, isdigit_count, isdecimal_count = 0, 0, 0\n",
        "for string in test_string:\n",
        "  isnumeric_count, isdigit_count, isdecimal_count = spam(string, isnumeric_count, isdigit_count, isdecimal_count)\n",
        "print('isnumeric_count: {}'.format(isnumeric_count))     \n",
        "print('isdigit_count: {}'.format(isdigit_count))     \n",
        "print('isdecimal_count: {}'.format(isdecimal_count)) "
      ],
      "execution_count": 56,
      "outputs": [
        {
          "output_type": "stream",
          "text": [
            "isnumeric_count: 4\n",
            "isdigit_count: 2\n",
            "isdecimal_count: 1\n"
          ],
          "name": "stdout"
        }
      ]
    },
    {
      "cell_type": "markdown",
      "metadata": {
        "id": "jihTHESvNomJ"
      },
      "source": [
        "## 運用formatting 技巧 output\n",
        "    * Accuracy: 98.13%, Recall: 94.88%, Precision: 96.29%"
      ]
    },
    {
      "cell_type": "code",
      "metadata": {
        "id": "fEs3KE2FNomK"
      },
      "source": [
        "accuracy = 98.129393\n",
        "recall =   94.879583\n",
        "precision =96.294821\n",
        "# Accuracy: 98.13%, Recall: 94.88%, Precision: 96.29%\n"
      ],
      "execution_count": 63,
      "outputs": []
    },
    {
      "cell_type": "code",
      "metadata": {
        "id": "x4sfXHDFNomN",
        "outputId": "98bc0b68-6f60-4fcd-b503-d600d1d344b7",
        "colab": {
          "base_uri": "https://localhost:8080/"
        }
      },
      "source": [
        "print('練習部分')\n",
        "print(f'Accuracy: {accuracy:.2f}%')\n",
        "print(f'Recall: {recall:.2f}%')\n",
        "print(f'Precision: {precision:.2f}%')"
      ],
      "execution_count": 73,
      "outputs": [
        {
          "output_type": "stream",
          "text": [
            "練習部分\n",
            "Accuracy: 98.13%\n",
            "Recall: 94.88%\n",
            "Precision: 96.29%\n"
          ],
          "name": "stdout"
        }
      ]
    },
    {
      "cell_type": "markdown",
      "metadata": {
        "id": "_tM5nZx3Nomb"
      },
      "source": [
        "---"
      ]
    },
    {
      "cell_type": "markdown",
      "metadata": {
        "id": "uHb-eRX4Nomc"
      },
      "source": [
        "## 依照只是轉換number output format"
      ]
    },
    {
      "cell_type": "code",
      "metadata": {
        "id": "_z9d8p8gNomd"
      },
      "source": [
        "number = 3.1415926"
      ],
      "execution_count": 76,
      "outputs": []
    },
    {
      "cell_type": "markdown",
      "metadata": {
        "id": "hVOYe52DNomh"
      },
      "source": [
        "#### 轉換為科學符號表示法 (小數點後兩位)"
      ]
    },
    {
      "cell_type": "code",
      "metadata": {
        "id": "t0y0Uz8fNomi",
        "outputId": "74e3dec4-eafb-4570-f8b6-239cc620889c",
        "colab": {
          "base_uri": "https://localhost:8080/"
        }
      },
      "source": [
        "# '3.14e+00'\n",
        "print(f'{number:.2e}')\n",
        "print('練習部分')\n"
      ],
      "execution_count": 78,
      "outputs": [
        {
          "output_type": "stream",
          "text": [
            "3.14e+00\n",
            "練習部分\n"
          ],
          "name": "stdout"
        }
      ]
    },
    {
      "cell_type": "markdown",
      "metadata": {
        "id": "odWO4h0sNomm"
      },
      "source": [
        "#### 轉換為%"
      ]
    },
    {
      "cell_type": "code",
      "metadata": {
        "id": "E8SoUNRHNomm",
        "outputId": "01396538-6c70-470d-af41-d2e7a9fa33a0",
        "colab": {
          "base_uri": "https://localhost:8080/"
        }
      },
      "source": [
        "# '314.16%'\n",
        "\n",
        "print(f'{number:.2%}')\n",
        "print('練習部分')\n"
      ],
      "execution_count": 80,
      "outputs": [
        {
          "output_type": "stream",
          "text": [
            "314.16%\n",
            "練習部分\n"
          ],
          "name": "stdout"
        }
      ]
    },
    {
      "cell_type": "markdown",
      "metadata": {
        "id": "Y0vqg3SaNomq"
      },
      "source": [
        "#### 補零成為3.14159300"
      ]
    },
    {
      "cell_type": "code",
      "metadata": {
        "id": "Ia0HFVWoNomq",
        "outputId": "ccf5f00c-2fa2-4236-936f-2c28e3ecc240",
        "colab": {
          "base_uri": "https://localhost:8080/"
        }
      },
      "source": [
        "print('{:0<10f}'.format(number))\n",
        "print(f'{number:0<10f}')\n",
        "print('練習部分')"
      ],
      "execution_count": 84,
      "outputs": [
        {
          "output_type": "stream",
          "text": [
            "3.14159300\n",
            "3.14159300\n",
            "練習部分\n"
          ],
          "name": "stdout"
        }
      ]
    }
  ]
}