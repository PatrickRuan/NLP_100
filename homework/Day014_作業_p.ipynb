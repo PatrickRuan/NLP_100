{
  "nbformat": 4,
  "nbformat_minor": 0,
  "metadata": {
    "kernelspec": {
      "display_name": "Python 3",
      "language": "python",
      "name": "python3"
    },
    "language_info": {
      "codemirror_mode": {
        "name": "ipython",
        "version": 3
      },
      "file_extension": ".py",
      "mimetype": "text/x-python",
      "name": "python",
      "nbconvert_exporter": "python",
      "pygments_lexer": "ipython3",
      "version": "3.7.4"
    },
    "colab": {
      "name": "Day014_作業_p.ipynb",
      "provenance": [],
      "collapsed_sections": [],
      "include_colab_link": true
    }
  },
  "cells": [
    {
      "cell_type": "markdown",
      "metadata": {
        "id": "view-in-github",
        "colab_type": "text"
      },
      "source": [
        "<a href=\"https://colab.research.google.com/github/PatrickRuan/NLP_100/blob/main/homework/Day014_%E4%BD%9C%E6%A5%AD_p.ipynb\" target=\"_parent\"><img src=\"https://colab.research.google.com/assets/colab-badge.svg\" alt=\"Open In Colab\"/></a>"
      ]
    },
    {
      "cell_type": "markdown",
      "metadata": {
        "id": "KXlGvXRnS0Q3"
      },
      "source": [
        "## 本日課程-文字預處理，部分內容前面章節可能提過，這裡會將前處理所需技巧串起"
      ]
    },
    {
      "cell_type": "code",
      "metadata": {
        "colab": {
          "base_uri": "https://localhost:8080/"
        },
        "id": "u_YGgDD-S0Q8",
        "outputId": "7edc8462-7077-4a47-e376-f8f81f711cf4"
      },
      "source": [
        "from google.colab import drive\n",
        "drive.mount('/content/drive/')\n",
        "path = 'drive/My Drive/學習/Cupoy/NLP_Cupoy_Pre/d014/'\n",
        "\n",
        "import numpy as np \n",
        "import pandas as pd\n",
        "import matplotlib.pyplot as plt\n",
        "from sklearn.metrics import confusion_matrix\n",
        "from nltk.corpus import stopwords\n",
        "#tsv是指用tab分開字元的檔案\n",
        "dataset=pd.read_csv(path + 'movie_feedback.csv', header=None, encoding='Big5')\n",
        "X = dataset[0].values\n",
        "Y = dataset[1].values"
      ],
      "execution_count": 146,
      "outputs": [
        {
          "output_type": "stream",
          "text": [
            "Drive already mounted at /content/drive/; to attempt to forcibly remount, call drive.mount(\"/content/drive/\", force_remount=True).\n"
          ],
          "name": "stdout"
        }
      ]
    },
    {
      "cell_type": "code",
      "metadata": {
        "id": "oc8lvbf-S0Q8",
        "outputId": "6c2cb88b-5249-4d0e-e32f-09587edf582b"
      },
      "source": [
        "dataset"
      ],
      "execution_count": null,
      "outputs": [
        {
          "output_type": "execute_result",
          "data": {
            "text/html": [
              "<div>\n",
              "<style scoped>\n",
              "    .dataframe tbody tr th:only-of-type {\n",
              "        vertical-align: middle;\n",
              "    }\n",
              "\n",
              "    .dataframe tbody tr th {\n",
              "        vertical-align: top;\n",
              "    }\n",
              "\n",
              "    .dataframe thead th {\n",
              "        text-align: right;\n",
              "    }\n",
              "</style>\n",
              "<table border=\"1\" class=\"dataframe\">\n",
              "  <thead>\n",
              "    <tr style=\"text-align: right;\">\n",
              "      <th></th>\n",
              "      <th>0</th>\n",
              "      <th>1</th>\n",
              "    </tr>\n",
              "  </thead>\n",
              "  <tbody>\n",
              "    <tr>\n",
              "      <th>0</th>\n",
              "      <td>the rock is destined to be the 21st century's ...</td>\n",
              "      <td>1</td>\n",
              "    </tr>\n",
              "    <tr>\n",
              "      <th>1</th>\n",
              "      <td>the gorgeously elaborate continuation of \" the...</td>\n",
              "      <td>1</td>\n",
              "    </tr>\n",
              "    <tr>\n",
              "      <th>2</th>\n",
              "      <td>effective but too-tepid biopic</td>\n",
              "      <td>1</td>\n",
              "    </tr>\n",
              "    <tr>\n",
              "      <th>3</th>\n",
              "      <td>if you sometimes like to go to the movies to h...</td>\n",
              "      <td>1</td>\n",
              "    </tr>\n",
              "    <tr>\n",
              "      <th>4</th>\n",
              "      <td>emerges as something rare , an issue movie tha...</td>\n",
              "      <td>1</td>\n",
              "    </tr>\n",
              "    <tr>\n",
              "      <th>...</th>\n",
              "      <td>...</td>\n",
              "      <td>...</td>\n",
              "    </tr>\n",
              "    <tr>\n",
              "      <th>10657</th>\n",
              "      <td>a terrible movie that some people will neverth...</td>\n",
              "      <td>0</td>\n",
              "    </tr>\n",
              "    <tr>\n",
              "      <th>10658</th>\n",
              "      <td>there are many definitions of 'time waster' bu...</td>\n",
              "      <td>0</td>\n",
              "    </tr>\n",
              "    <tr>\n",
              "      <th>10659</th>\n",
              "      <td>as it stands , crocodile hunter has the hurrie...</td>\n",
              "      <td>0</td>\n",
              "    </tr>\n",
              "    <tr>\n",
              "      <th>10660</th>\n",
              "      <td>the thing looks like a made-for-home-video qui...</td>\n",
              "      <td>0</td>\n",
              "    </tr>\n",
              "    <tr>\n",
              "      <th>10661</th>\n",
              "      <td>enigma is well-made , but it's just too dry an...</td>\n",
              "      <td>0</td>\n",
              "    </tr>\n",
              "  </tbody>\n",
              "</table>\n",
              "<p>10662 rows × 2 columns</p>\n",
              "</div>"
            ],
            "text/plain": [
              "                                                       0  1\n",
              "0      the rock is destined to be the 21st century's ...  1\n",
              "1      the gorgeously elaborate continuation of \" the...  1\n",
              "2                         effective but too-tepid biopic  1\n",
              "3      if you sometimes like to go to the movies to h...  1\n",
              "4      emerges as something rare , an issue movie tha...  1\n",
              "...                                                  ... ..\n",
              "10657  a terrible movie that some people will neverth...  0\n",
              "10658  there are many definitions of 'time waster' bu...  0\n",
              "10659  as it stands , crocodile hunter has the hurrie...  0\n",
              "10660  the thing looks like a made-for-home-video qui...  0\n",
              "10661  enigma is well-made , but it's just too dry an...  0\n",
              "\n",
              "[10662 rows x 2 columns]"
            ]
          },
          "metadata": {
            "tags": []
          },
          "execution_count": 2
        }
      ]
    },
    {
      "cell_type": "markdown",
      "metadata": {
        "id": "d0IU12epS0Q-"
      },
      "source": [
        "---"
      ]
    },
    {
      "cell_type": "code",
      "metadata": {
        "colab": {
          "base_uri": "https://localhost:8080/"
        },
        "id": "DS_Pk4kVS0Q-",
        "outputId": "f25fc211-d626-4d11-8a02-3c944f441c3c"
      },
      "source": [
        "print('review before preprocessing : {}'.format(X[0]))"
      ],
      "execution_count": 147,
      "outputs": [
        {
          "output_type": "stream",
          "text": [
            "review before preprocessing : the rock is destined to be the 21st century's new \" conan \" and that he's going to make a splash even greater than arnold schwarzenegger , jean-claud van damme or steven segal . \n"
          ],
          "name": "stdout"
        }
      ]
    },
    {
      "cell_type": "markdown",
      "metadata": {
        "id": "itnPBYG8S0Q_"
      },
      "source": [
        "## 運用re.sub去除部分字元"
      ]
    },
    {
      "cell_type": "code",
      "metadata": {
        "id": "nMrV26hXS0Q_"
      },
      "source": [
        "import re \n",
        "# 去除a-zA-Z以外的字元，並將他們取代為空格' '\n",
        "#re.sub('[^a-zA-z']')\n",
        "review=re.sub('[^a-zA-z]',\" \",X[0])\n"
      ],
      "execution_count": 157,
      "outputs": []
    },
    {
      "cell_type": "code",
      "metadata": {
        "id": "JLBOsiAHS0Q_",
        "outputId": "a9bfb4e3-21be-4553-ea44-8b99405eeec9"
      },
      "source": [
        "print('review after re.sub : {}'.format(review))"
      ],
      "execution_count": null,
      "outputs": [
        {
          "output_type": "stream",
          "text": [
            "review after re.sub : the rock is destined to be the   st century s new   conan   and that he s going to make a splash even greater than arnold schwarzenegger   jean claud van damme or steven segal   \n"
          ],
          "name": "stdout"
        }
      ]
    },
    {
      "cell_type": "markdown",
      "metadata": {
        "id": "dlI3qioXS0Q_"
      },
      "source": [
        "## 將所有字母轉為小寫:因為大部分情境區分大小寫並不能提供而外訊息，如CV內顏色無法提供額外訊息時我們會將圖像轉為灰階，藉此降低複雜度"
      ]
    },
    {
      "cell_type": "code",
      "metadata": {
        "colab": {
          "base_uri": "https://localhost:8080/"
        },
        "id": "8zKtkOhYS0Q_",
        "outputId": "551642f6-a2e4-4188-cce6-37d8250a9ecd"
      },
      "source": [
        "#把全部變成小寫\n",
        "#review=\"自行填入\"\n",
        "review = review.lower()\n",
        "print('review after lower : {}'.format(review))"
      ],
      "execution_count": 158,
      "outputs": [
        {
          "output_type": "stream",
          "text": [
            "review after lower : the rock is destined to be the   st century s new   conan   and that he s going to make a splash even greater than arnold schwarzenegger   jean claud van damme or steven segal   \n"
          ],
          "name": "stdout"
        }
      ]
    },
    {
      "cell_type": "markdown",
      "metadata": {
        "id": "rY9JL0SlS0Q_"
      },
      "source": [
        "## 斷詞"
      ]
    },
    {
      "cell_type": "code",
      "metadata": {
        "colab": {
          "base_uri": "https://localhost:8080/"
        },
        "id": "Q34phtZGS0Q_",
        "outputId": "7d67e0bf-c9c6-42ac-f04f-89b7860ebe52"
      },
      "source": [
        "import nltk\n",
        "#把review裡面的單字切開\n",
        "print('review after split : {}'.format(review.split()))"
      ],
      "execution_count": 159,
      "outputs": [
        {
          "output_type": "stream",
          "text": [
            "review after split : ['the', 'rock', 'is', 'destined', 'to', 'be', 'the', 'st', 'century', 's', 'new', 'conan', 'and', 'that', 'he', 's', 'going', 'to', 'make', 'a', 'splash', 'even', 'greater', 'than', 'arnold', 'schwarzenegger', 'jean', 'claud', 'van', 'damme', 'or', 'steven', 'segal']\n"
          ],
          "name": "stdout"
        }
      ]
    },
    {
      "cell_type": "markdown",
      "metadata": {
        "id": "-bMqDFgDS0Q_"
      },
      "source": [
        "* tokenize 相較於split會是更好的選擇，如 split 無法分開 word. 這種case"
      ]
    },
    {
      "cell_type": "code",
      "metadata": {
        "colab": {
          "base_uri": "https://localhost:8080/"
        },
        "id": "wsTFSsMnS0Q_",
        "outputId": "0e7b066a-179f-4c14-9531-8109561ea78b"
      },
      "source": [
        "review = \"自行填入\"\n",
        "print('review after tokenize : {}'.format(review))"
      ],
      "execution_count": 160,
      "outputs": [
        {
          "output_type": "stream",
          "text": [
            "review after tokenize : 自行填入\n"
          ],
          "name": "stdout"
        }
      ]
    },
    {
      "cell_type": "markdown",
      "metadata": {
        "id": "Ez6rDxpmS0Q_"
      },
      "source": [
        "## stopwords: 移除贅字，此步驟為前處理的重要步驟之一，過多的贅字不僅無法提供更多訊息，還會干擾到模型的訓練"
      ]
    },
    {
      "cell_type": "code",
      "metadata": {
        "colab": {
          "base_uri": "https://localhost:8080/"
        },
        "id": "PVQQlrnYS0Q_",
        "outputId": "0f5cc1be-ec35-4167-cf11-c65b5f63230b"
      },
      "source": [
        "#處理文字，有建立好的文字褲會幫我們移除不想要的文字\n",
        "import nltk\n",
        "nltk.download('stopwords')"
      ],
      "execution_count": 161,
      "outputs": [
        {
          "output_type": "stream",
          "text": [
            "[nltk_data] Downloading package stopwords to /root/nltk_data...\n",
            "[nltk_data]   Package stopwords is already up-to-date!\n"
          ],
          "name": "stdout"
        },
        {
          "output_type": "execute_result",
          "data": {
            "text/plain": [
              "True"
            ]
          },
          "metadata": {
            "tags": []
          },
          "execution_count": 161
        }
      ]
    },
    {
      "cell_type": "code",
      "metadata": {
        "colab": {
          "base_uri": "https://localhost:8080/"
        },
        "id": "7EcvGYljUByN",
        "outputId": "53df9f20-07de-4c40-f9f9-f878d299c964"
      },
      "source": [
        "len(stopwords.words()) # 6800\n",
        "len(stopwords.words('english')) #179\n",
        "#stopwords.words()"
      ],
      "execution_count": 168,
      "outputs": [
        {
          "output_type": "execute_result",
          "data": {
            "text/plain": [
              "179"
            ]
          },
          "metadata": {
            "tags": []
          },
          "execution_count": 168
        }
      ]
    },
    {
      "cell_type": "code",
      "metadata": {
        "colab": {
          "base_uri": "https://localhost:8080/"
        },
        "id": "IveL2d4dS0Q_",
        "outputId": "3e142e6d-89ed-4510-eb71-172193201eed"
      },
      "source": [
        "review=[word for word in review if not word in set(stopwords.words('english'))]\n",
        "print('review after removeing stopwords : {}'.format(review))"
      ],
      "execution_count": 169,
      "outputs": [
        {
          "output_type": "stream",
          "text": [
            "review after removeing stopwords : []\n"
          ],
          "name": "stdout"
        }
      ]
    },
    {
      "cell_type": "markdown",
      "metadata": {
        "id": "OQdqBsH4S0Q_"
      },
      "source": [
        "## Stemming: 詞幹提取\n",
        " * ex. loves,loved都變成love\n",
        " * 中文沒有詞幹提取的需求"
      ]
    },
    {
      "cell_type": "code",
      "metadata": {
        "id": "FStqhWNwS0Q_"
      },
      "source": [
        "from nltk.stem.porter import PorterStemmer\n",
        "ps=PorterStemmer()\n",
        "review=[ps.stem(word) for word in review]"
      ],
      "execution_count": 170,
      "outputs": []
    },
    {
      "cell_type": "code",
      "metadata": {
        "colab": {
          "base_uri": "https://localhost:8080/"
        },
        "id": "qPM_pQBHS0Q_",
        "outputId": "43fe7a65-568f-4571-a2d7-88121e48cc00"
      },
      "source": [
        "print('review after stemming : {}'.format(review))"
      ],
      "execution_count": 171,
      "outputs": [
        {
          "output_type": "stream",
          "text": [
            "review after stemming : []\n"
          ],
          "name": "stdout"
        }
      ]
    },
    {
      "cell_type": "markdown",
      "metadata": {
        "id": "kxHkq6kBS0RA"
      },
      "source": [
        "## 練習清理所有的句子"
      ]
    },
    {
      "cell_type": "code",
      "metadata": {
        "id": "SbOASZrZS0RA"
      },
      "source": [
        "#dataset=pd.read_csv('movie_feedback.csv',encoding = 'Big5',names=['feedback', 'label'] )\n",
        "X = dataset[0].values"
      ],
      "execution_count": 172,
      "outputs": []
    },
    {
      "cell_type": "code",
      "metadata": {
        "id": "rDFrxORKS0RA"
      },
      "source": [
        "corpus=[]\n",
        "row=len(X)\n",
        "for i in range(0,row):\n",
        "    review=re.sub('[^a-zA-Z]',' ',X[i])\n",
        "    review=review.lower()\n",
        "    review=review.split()\n",
        "    ps=PorterStemmer()\n",
        "    ## 這裡先不用stopwords 因為 review中很多反定詞會被移掉 如isn't good, 會變成 good\n",
        "    review=[ps.stem(word) for word in review ]\n",
        "    review=' '.join(review)\n",
        "    corpus.append(review)"
      ],
      "execution_count": 173,
      "outputs": []
    },
    {
      "cell_type": "markdown",
      "metadata": {
        "id": "XYH687K_S0RA"
      },
      "source": [
        "## 轉bag-of-words vector"
      ]
    },
    {
      "cell_type": "code",
      "metadata": {
        "id": "Ry-Ivzl3S0RA"
      },
      "source": [
        "from sklearn.feature_extraction.text import CountVectorizer\n",
        "#Creating bag of word model\n",
        "#tokenization(符號化)\n",
        "from sklearn.feature_extraction.text import CountVectorizer\n",
        "#max_features是要建造幾個column，會按造字出現的高低去篩選 \n",
        "cv = CountVectorizer(max_features=1500)\n",
        "#toarray是建造matrixs\n",
        "#X現在為sparsity就是很多零的matrix\n",
        "X_ = cv.fit_transform(corpus).toarray()\n",
        "Y_ = dataset[1].values"
      ],
      "execution_count": 174,
      "outputs": []
    },
    {
      "cell_type": "markdown",
      "metadata": {
        "id": "CfsaVejaS0RA"
      },
      "source": [
        "## 選擇練習: 將處理好數據放入 naive_bayes模型，並預測評論為正向或負面，詳細原理之後章節會解釋。"
      ]
    },
    {
      "cell_type": "markdown",
      "metadata": {
        "id": "meEI-W8mS0RA"
      },
      "source": [
        "## Training"
      ]
    },
    {
      "cell_type": "code",
      "metadata": {
        "colab": {
          "base_uri": "https://localhost:8080/"
        },
        "id": "u1QoMARPS0RA",
        "outputId": "ad7f9bcc-0799-4f25-c64e-e700a4a65f10"
      },
      "source": [
        "\n",
        "from sklearn.model_selection import train_test_split\n",
        "X_train, X_test, y_train, y_test = train_test_split(X_, Y_, test_size = 0.1)\n",
        "\n",
        "# Feature Scaling\n",
        "\n",
        "#Naive Bayes\n",
        "from sklearn.naive_bayes import GaussianNB\n",
        "classifier = GaussianNB()\n",
        "classifier.fit(X_train, y_train)\n"
      ],
      "execution_count": 175,
      "outputs": [
        {
          "output_type": "execute_result",
          "data": {
            "text/plain": [
              "GaussianNB(priors=None, var_smoothing=1e-09)"
            ]
          },
          "metadata": {
            "tags": []
          },
          "execution_count": 175
        }
      ]
    },
    {
      "cell_type": "markdown",
      "metadata": {
        "id": "vsKLwhAaS0RA"
      },
      "source": [
        "## Inference"
      ]
    },
    {
      "cell_type": "code",
      "metadata": {
        "id": "hHFVFzNFS0RA"
      },
      "source": [
        "\n",
        "message='I really like this movie!!'\n",
        "## 要使用一樣的前處理\n",
        "review=re.sub('[^a-zA-Z]',' ',message)\n",
        "review=review.lower()\n",
        "review=review.split()\n",
        "ps=PorterStemmer()\n",
        "review=[ps.stem(word) for word in review]\n",
        "review = ' '.join(review)\n",
        "input_ = cv.transform([review]).toarray()\n",
        "prediction = classifier.predict(input_)\n",
        "\n"
      ],
      "execution_count": 176,
      "outputs": []
    },
    {
      "cell_type": "code",
      "metadata": {
        "colab": {
          "base_uri": "https://localhost:8080/"
        },
        "id": "6htY0g-SS0RA",
        "outputId": "21e34fd9-b2e2-4e48-c21c-7d95cfc5b690"
      },
      "source": [
        "prediction ## 1代表正向評價"
      ],
      "execution_count": 177,
      "outputs": [
        {
          "output_type": "execute_result",
          "data": {
            "text/plain": [
              "array([0])"
            ]
          },
          "metadata": {
            "tags": []
          },
          "execution_count": 177
        }
      ]
    },
    {
      "cell_type": "code",
      "metadata": {
        "id": "MVY_uHwrS0RA"
      },
      "source": [
        "message='A terrible movie  !!'\n",
        "review=re.sub('[^a-zA-Z]',' ',message)\n",
        "review=review.lower()\n",
        "review=review.split()\n",
        "ps=PorterStemmer()\n",
        "review=[ps.stem(word) for word in review]\n",
        "review = ' '.join(review)\n",
        "input_ = cv.transform([review]).toarray()\n",
        "prediction = classifier.predict(input_)\n",
        "\n"
      ],
      "execution_count": 178,
      "outputs": []
    },
    {
      "cell_type": "code",
      "metadata": {
        "colab": {
          "base_uri": "https://localhost:8080/"
        },
        "id": "ZqHUQKSQS0RA",
        "outputId": "f0228fa5-60c0-4e70-8143-a33d4d815260"
      },
      "source": [
        "prediction ## 0代表負面評價"
      ],
      "execution_count": 179,
      "outputs": [
        {
          "output_type": "execute_result",
          "data": {
            "text/plain": [
              "array([0])"
            ]
          },
          "metadata": {
            "tags": []
          },
          "execution_count": 179
        }
      ]
    },
    {
      "cell_type": "code",
      "metadata": {
        "id": "wOyGvLiyS0RA"
      },
      "source": [
        ""
      ],
      "execution_count": null,
      "outputs": []
    }
  ]
}