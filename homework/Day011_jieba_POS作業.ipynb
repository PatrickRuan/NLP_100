{
  "nbformat": 4,
  "nbformat_minor": 0,
  "metadata": {
    "kernelspec": {
      "display_name": "Python 3",
      "language": "python",
      "name": "python3"
    },
    "language_info": {
      "codemirror_mode": {
        "name": "ipython",
        "version": 3
      },
      "file_extension": ".py",
      "mimetype": "text/x-python",
      "name": "python",
      "nbconvert_exporter": "python",
      "pygments_lexer": "ipython3",
      "version": "3.7.4"
    },
    "colab": {
      "name": "Day011- jieba作業.ipynb",
      "provenance": [],
      "collapsed_sections": [],
      "include_colab_link": true
    }
  },
  "cells": [
    {
      "cell_type": "markdown",
      "metadata": {
        "id": "view-in-github",
        "colab_type": "text"
      },
      "source": [
        "<a href=\"https://colab.research.google.com/github/PatrickRuan/NLP_100/blob/main/homework/Day011_jieba_POS%E4%BD%9C%E6%A5%AD.ipynb\" target=\"_parent\"><img src=\"https://colab.research.google.com/assets/colab-badge.svg\" alt=\"Open In Colab\"/></a>"
      ]
    },
    {
      "cell_type": "markdown",
      "metadata": {
        "id": "_eZPkUfoYi2I"
      },
      "source": [
        "## 作業目標：運用課程所學，操作字串達到預期輸出"
      ]
    },
    {
      "cell_type": "markdown",
      "metadata": {
        "id": "zl6shzUNYi2P"
      },
      "source": [
        "* 自行尋找一篇超過100字的文章\n",
        "    * 首先運用結巴斷詞，自行新增字典使得斷詞更為正確\n",
        "    * 使用jieba 完成 PoS Taggin\n",
        "    * 新增的詞也必須賦予詞性"
      ]
    },
    {
      "cell_type": "code",
      "metadata": {
        "id": "vu-knCj3Yluy",
        "outputId": "d797f897-1e82-4870-b40b-b5d74a5726ef",
        "colab": {
          "base_uri": "https://localhost:8080/"
        }
      },
      "source": [
        "from google.colab import drive\n",
        "drive.mount('/content/drive/')\n",
        "!cp drive/'My Drive'/學習/Cupoy/NLP_Cupoy_Pre/d011/D11/*.* ."
      ],
      "execution_count": 3,
      "outputs": [
        {
          "output_type": "stream",
          "text": [
            "Drive already mounted at /content/drive/; to attempt to forcibly remount, call drive.mount(\"/content/drive/\", force_remount=True).\n"
          ],
          "name": "stdout"
        }
      ]
    },
    {
      "cell_type": "markdown",
      "metadata": {
        "id": "xl_DVdMgYi2Q"
      },
      "source": [
        "---"
      ]
    },
    {
      "cell_type": "code",
      "metadata": {
        "id": "mBSk_TLbYi2S"
      },
      "source": [
        "import jieba\n",
        "import jieba.posseg as pseg\n",
        "jieba.set_dictionary('dict.txt')"
      ],
      "execution_count": 4,
      "outputs": []
    },
    {
      "cell_type": "markdown",
      "metadata": {
        "id": "7Seg7qoHYi2e"
      },
      "source": [
        "---"
      ]
    },
    {
      "cell_type": "code",
      "metadata": {
        "id": "0EBSjua2Yi2f"
      },
      "source": [
        "sentence = '''這是敘述近年來，AI 應用已無所不在，不論在新創或是傳產領域，都可能透過機器學習解決過去難以解決的問題。但目前台灣企業在 AI 導入的腳步仍然緩慢，除了人才嚴重短缺，教育資源無法即時跟上產業變異也是原因之一。因此，我們發起了「 機器學習 百日馬拉松 」教練陪跑計劃，翻轉傳統上課模式，以自主練習為主，幫助你獲得最大學習成效，搶先一步進入 AI 人工智能領域。'''"
      ],
      "execution_count": 5,
      "outputs": []
    },
    {
      "cell_type": "code",
      "metadata": {
        "id": "mOXT4XZdYi2j",
        "outputId": "aa2bb738-3cd6-4af4-a8a1-b2abc6097521",
        "colab": {
          "base_uri": "https://localhost:8080/"
        }
      },
      "source": [
        "print(sentence)"
      ],
      "execution_count": 7,
      "outputs": [
        {
          "output_type": "stream",
          "text": [
            "這是敘述近年來，AI 應用已無所不在，不論在新創或是傳產領域，都可能透過機器學習解決過去難以解決的問題。但目前台灣企業在 AI 導入的腳步仍然緩慢，除了人才嚴重短缺，教育資源無法即時跟上產業變異也是原因之一。因此，我們發起了「 機器學習 百日馬拉松 」教練陪跑計劃，翻轉傳統上課模式，以自主練習為主，幫助你獲得最大學習成效，搶先一步進入 AI 人工智能領域。\n"
          ],
          "name": "stdout"
        }
      ]
    },
    {
      "cell_type": "code",
      "metadata": {
        "id": "wFXI8guBYi2s",
        "outputId": "0ed41e3d-54cf-4880-dace-acd55d3711e6",
        "colab": {
          "base_uri": "https://localhost:8080/"
        }
      },
      "source": [
        "# precise mode is default mode of jieba.cut\n",
        "s = jieba.cut(sentence)\n",
        "s = '|'.join(s)\n",
        "print(f'output 精確模式: {s}')\n",
        "#print(\"output 精確模式: {}\".format('|'.join(jieba.cut(sentence, cut_all=False, HMM=False))))"
      ],
      "execution_count": 8,
      "outputs": [
        {
          "output_type": "stream",
          "text": [
            "Building prefix dict from /content/dict.txt ...\n",
            "Dumping model to file cache /tmp/jieba.ueb620ec8402181953a0299d7957c0d6e.cache\n",
            "Loading model cost 0.788 seconds.\n",
            "Prefix dict has been built successfully.\n"
          ],
          "name": "stderr"
        },
        {
          "output_type": "stream",
          "text": [
            "output 精確模式: 這是|敘述|近年|來|，|AI| |應用|已|無所不在|，|不論|在|新創|或是|傳產|領域|，|都|可能|透過|機器|學習|解決|過去|難以|解決|的|問題|。|但|目前|台灣|企業|在| |AI| |導入|的|腳步|仍然|緩慢|，|除了|人才|嚴重|短缺|，|教育|資源|無法|即時|跟上|產業|變異|也|是|原因|之|一|。|因此|，|我們|發起|了|「| |機器|學習| |百日|馬拉松| |」|教練|陪跑|計劃|，|翻轉|傳統|上課|模式|，|以|自主|練習|為主|，|幫助|你|獲得|最|大|學習|成效|，|搶先|一步|進入| |AI| |人工|智能|領域|。\n"
          ],
          "name": "stdout"
        }
      ]
    },
    {
      "cell_type": "markdown",
      "metadata": {
        "id": "VBbeuSbfYi2v"
      },
      "source": [
        "## 新增字典"
      ]
    },
    {
      "cell_type": "code",
      "metadata": {
        "id": "mFhfMSOOYi2w"
      },
      "source": [
        "new_words = '機器學習 1 n\\n人工智能 1'\n",
        "with open('adding.txt', 'w') as file:\n",
        "    file.write(new_words)\n",
        "jieba.load_userdict('adding.txt')"
      ],
      "execution_count": 12,
      "outputs": []
    },
    {
      "cell_type": "code",
      "metadata": {
        "id": "S59_NavPYi2z",
        "outputId": "f70f1da0-42ca-4a37-bb54-dfc05a43966d",
        "colab": {
          "base_uri": "https://localhost:8080/"
        }
      },
      "source": [
        "s = jieba.cut(sentence)\n",
        "s = '|'.join(s)\n",
        "print(f'output 精確模式: {s}')\n",
        "#print(\"output 精確模式: {}\".format('|'.join(jieba.cut(sentence, cut_all=False, HMM=False))))"
      ],
      "execution_count": 13,
      "outputs": [
        {
          "output_type": "stream",
          "text": [
            "output 精確模式: 這是|敘述|近年|來|，|AI| |應用|已|無所不在|，|不論|在|新創|或是|傳產|領域|，|都|可能|透過|機器學習|解決|過去|難以|解決|的|問題|。|但|目前|台灣|企業|在| |AI| |導入|的|腳步|仍然|緩慢|，|除了|人才|嚴重|短缺|，|教育|資源|無法|即時|跟上|產業|變異|也|是|原因|之|一|。|因此|，|我們|發起|了|「| |機器學習| |百日|馬拉松| |」|教練|陪跑|計劃|，|翻轉|傳統|上課|模式|，|以|自主|練習|為主|，|幫助|你|獲得|最|大|學習|成效|，|搶先|一步|進入| |AI| |人工智能|領域|。\n"
          ],
          "name": "stdout"
        }
      ]
    },
    {
      "cell_type": "markdown",
      "metadata": {
        "id": "4VbTK9UTYi26"
      },
      "source": [
        "## Taggin"
      ]
    },
    {
      "cell_type": "code",
      "metadata": {
        "id": "nrWg9AhiYi27",
        "outputId": "8b5970cd-67ba-4f8c-d9f5-0da4a8778e60",
        "colab": {
          "base_uri": "https://localhost:8080/"
        }
      },
      "source": [
        "words = pseg.cut(sentence,)\n",
        "for word, flag in words:\n",
        "    print(word, flag)"
      ],
      "execution_count": 14,
      "outputs": [
        {
          "output_type": "stream",
          "text": [
            "這是 x\n",
            "敘述 x\n",
            "近年 t\n",
            "來 zg\n",
            "， x\n",
            "AI eng\n",
            "  x\n",
            "應用 x\n",
            "已 d\n",
            "無所不在 x\n",
            "， x\n",
            "不論 x\n",
            "在 p\n",
            "新創 x\n",
            "或是 c\n",
            "傳產 x\n",
            "領域 x\n",
            "， x\n",
            "都 d\n",
            "可能 v\n",
            "透過 x\n",
            "機器學習 n\n",
            "解決 x\n",
            "過去 x\n",
            "難以 x\n",
            "解決 x\n",
            "的 uj\n",
            "問題 x\n",
            "。 x\n",
            "但 c\n",
            "目前 t\n",
            "台灣 x\n",
            "企業 x\n",
            "在 p\n",
            "  x\n",
            "AI eng\n",
            "  x\n",
            "導入 x\n",
            "的 uj\n",
            "腳步 x\n",
            "仍然 d\n",
            "緩慢 x\n",
            "， x\n",
            "除了 p\n",
            "人才 n\n",
            "嚴重 x\n",
            "短缺 a\n",
            "， x\n",
            "教育 vn\n",
            "資源 x\n",
            "無法 x\n",
            "即時 x\n",
            "跟上 f\n",
            "產業 x\n",
            "變異 x\n",
            "也 d\n",
            "是 v\n",
            "原因 n\n",
            "之一 r\n",
            "。 x\n",
            "因此 c\n",
            "， x\n",
            "我們 x\n",
            "發起 x\n",
            "了 ul\n",
            "「 x\n",
            "  x\n",
            "機器學習 n\n",
            "  x\n",
            "百日 m\n",
            "馬拉松 x\n",
            "  x\n",
            "」 x\n",
            "教練 x\n",
            "陪跑 x\n",
            "計劃 x\n",
            "， x\n",
            "翻轉 x\n",
            "傳統 x\n",
            "上課 x\n",
            "模式 n\n",
            "， x\n",
            "以 p\n",
            "自主 v\n",
            "練習 x\n",
            "為主 x\n",
            "， x\n",
            "幫助 x\n",
            "你 r\n",
            "獲得 x\n",
            "最 d\n",
            "大 a\n",
            "學習 x\n",
            "成效 a\n",
            "， x\n",
            "搶先 x\n",
            "一步 m\n",
            "進入 x\n",
            "  x\n",
            "AI eng\n",
            "  x\n",
            "人工智能 n\n",
            "領域 x\n",
            "。 x\n"
          ],
          "name": "stdout"
        }
      ]
    },
    {
      "cell_type": "code",
      "metadata": {
        "id": "AY696FiMYi2-"
      },
      "source": [
        ""
      ],
      "execution_count": null,
      "outputs": []
    }
  ]
}