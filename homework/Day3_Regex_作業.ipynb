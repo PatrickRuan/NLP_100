{
  "nbformat": 4,
  "nbformat_minor": 0,
  "metadata": {
    "kernelspec": {
      "display_name": "pytorch_env",
      "language": "python",
      "name": "pytorch_env"
    },
    "language_info": {
      "codemirror_mode": {
        "name": "ipython",
        "version": 3
      },
      "file_extension": ".py",
      "mimetype": "text/x-python",
      "name": "python",
      "nbconvert_exporter": "python",
      "pygments_lexer": "ipython3",
      "version": "3.7.3"
    },
    "colab": {
      "name": "Day3_Regex_作業.ipynb",
      "provenance": [],
      "include_colab_link": true
    }
  },
  "cells": [
    {
      "cell_type": "markdown",
      "metadata": {
        "id": "view-in-github",
        "colab_type": "text"
      },
      "source": [
        "<a href=\"https://colab.research.google.com/github/PatrickRuan/NLP_100/blob/main/homework/Day3_Regex_%E4%BD%9C%E6%A5%AD.ipynb\" target=\"_parent\"><img src=\"https://colab.research.google.com/assets/colab-badge.svg\" alt=\"Open In Colab\"/></a>"
      ]
    },
    {
      "cell_type": "markdown",
      "metadata": {
        "id": "J4hOkp1qED2I"
      },
      "source": [
        "# 作業目標: 利用正規表達式達到預期配對\n",
        "本次作業將以互動式網站[Regex101](https://regex101.com/)來做練習，請將所需配對文本複製貼上到Regex101的**TEST STRING**區塊來做練習"
      ]
    },
    {
      "cell_type": "markdown",
      "metadata": {
        "id": "c3UV7f0aED2K"
      },
      "source": [
        "### HW1: 電話號碼配對\n",
        "\n",
        "抓出在電話號碼的所在地區以及號碼\n",
        "\n",
        "```\n",
        "ex: 02-33334444 --> 配對02, 33334444\n",
        "```\n",
        "\n",
        "\n",
        "**所需配對文本:**\n",
        "```\n",
        "02-27208889\n",
        "04-2220-3585\n",
        "(06)-2991111\n",
        "(07)799-5678\n",
        "```\n",
        "\n",
        "**應配對出的結果為**\n",
        "```\n",
        "02, 27208889\n",
        "04, 22203585\n",
        "06, 2991111\n",
        "07, 7995678\n",
        "```"
      ]
    },
    {
      "cell_type": "code",
      "metadata": {
        "id": "beC5QrHEcF2r",
        "outputId": "9f54b677-4213-4974-e40c-3111282e1793",
        "colab": {
          "base_uri": "https://localhost:8080/"
        }
      },
      "source": [
        "\n",
        "import re\n",
        "\n",
        "regex = r\"\\d+\"  # 可以試試 \\d 就會是 single digit 輸出\n",
        "\n",
        "test_str = (\"02-27208889\\n\"\n",
        "\t\"04-2220-3585\\n\"\n",
        "\t\"(06)-2991111\\n\"\n",
        "\t\"(07)799-5678\")\n",
        "\n",
        "matches = re.finditer(regex, test_str, re.MULTILINE)\n",
        "\n",
        "for matchNum, match in enumerate(matches, start=1):\n",
        "    \n",
        "    print (\"Match {matchNum} was found at {start}-{end}: {match}\".format(matchNum = matchNum, start = match.start(), end = match.end(), match = match.group()))\n",
        "    \n",
        "    for groupNum in range(0, len(match.groups())):\n",
        "        groupNum = groupNum + 1\n",
        "        \n",
        "        print (\"Group {groupNum} found at {start}-{end}: {group}\".format(groupNum = groupNum, start = match.start(groupNum), end = match.end(groupNum), group = match.group(groupNum)))"
      ],
      "execution_count": 11,
      "outputs": [
        {
          "output_type": "stream",
          "text": [
            "Match 1 was found at 0-2: 02\n",
            "Match 2 was found at 3-11: 27208889\n",
            "Match 3 was found at 12-14: 04\n",
            "Match 4 was found at 15-19: 2220\n",
            "Match 5 was found at 20-24: 3585\n",
            "Match 6 was found at 26-28: 06\n",
            "Match 7 was found at 30-37: 2991111\n",
            "Match 8 was found at 39-41: 07\n",
            "Match 9 was found at 42-45: 799\n",
            "Match 10 was found at 46-50: 5678\n"
          ],
          "name": "stdout"
        }
      ]
    },
    {
      "cell_type": "markdown",
      "metadata": {
        "id": "K2LlVBEJED2M"
      },
      "source": [
        "### HW2: 身分證字號配對\n",
        "請配對出找出桃園(H), 台南(D), 嘉義(Q)中為男生的身分證字號(數字為1開頭)\n",
        "\n",
        "**所需配對文本:**\n",
        "```\n",
        "A121040176\n",
        "L186856359\n",
        "Z127598010\n",
        "I114537095\n",
        "D279884447\n",
        "L186834359\n",
        "D243736345\n",
        "I114537095\n",
        "Q146110887\n",
        "D187217314\n",
        "I114537095\n",
        "Q243556025\n",
        "Z127598010\n",
        "H250077453\n",
        "Q188367037\n",
        "```\n",
        "\n",
        "**應配對出的結果為** \n",
        "# 有誤\n",
        "```\n",
        "D279884447\n",
        "D243736345\n",
        "Q243556025\n",
        "H250077453\n",
        "\n",
        "```"
      ]
    },
    {
      "cell_type": "markdown",
      "metadata": {
        "id": "MZ1kDjwveWP_"
      },
      "source": [
        "[HDQ]1\\d+  "
      ]
    },
    {
      "cell_type": "code",
      "metadata": {
        "id": "Ijdh8umYeM78",
        "outputId": "6aa75731-090c-4473-d1ab-63af2f91b22e",
        "colab": {
          "base_uri": "https://localhost:8080/"
        }
      },
      "source": [
        "\n",
        "\n",
        "import re\n",
        "\n",
        "regex = r\"[HDQ]1\\d+\"\n",
        "\n",
        "test_str = (\"A121040176\\n\"\n",
        "\t\"L186856359\\n\"\n",
        "\t\"Z127598010\\n\"\n",
        "\t\"I114537095\\n\"\n",
        "\t\"D279884447\\n\"\n",
        "\t\"L186834359\\n\"\n",
        "\t\"D243736345\\n\"\n",
        "\t\"I114537095\\n\"\n",
        "\t\"Q146110887\\n\"\n",
        "\t\"D187217314\\n\"\n",
        "\t\"I114537095\\n\"\n",
        "\t\"Q243556025\\n\"\n",
        "\t\"Z127598010\\n\"\n",
        "\t\"H250077453\\n\"\n",
        "\t\"Q188367037\")\n",
        "\n",
        "matches = re.finditer(regex, test_str, re.MULTILINE)\n",
        "\n",
        "for matchNum, match in enumerate(matches, start=1):\n",
        "    \n",
        "    print (\"Match {matchNum} was found at {start}-{end}: {match}\".format(matchNum = matchNum, start = match.start(), end = match.end(), match = match.group()))\n",
        "    \n",
        "    for groupNum in range(0, len(match.groups())):\n",
        "        groupNum = groupNum + 1\n",
        "        \n",
        "        print (\"Group {groupNum} found at {start}-{end}: {group}\".format(groupNum = groupNum, start = match.start(groupNum), end = match.end(groupNum), group = match.group(groupNum)))\n"
      ],
      "execution_count": 14,
      "outputs": [
        {
          "output_type": "stream",
          "text": [
            "Match 1 was found at 88-98: Q146110887\n",
            "Match 2 was found at 99-109: D187217314\n",
            "Match 3 was found at 154-164: Q188367037\n"
          ],
          "name": "stdout"
        }
      ]
    },
    {
      "cell_type": "markdown",
      "metadata": {
        "id": "E7fHH1F3ED2O"
      },
      "source": [
        "### HW3: 電子郵件配對\n",
        "請抓出@前面的帳戶名稱，且請排除gmail的信箱\n",
        "\n",
        "**所需配對文本:**\n",
        "```\n",
        "foobar@gmail.com\n",
        "NoOneCareMe@gamil.com\n",
        "SaveTheWorld@hotmail.com\n",
        "zzzGroup@yahoo.com\n",
        "eagle1963@gmail.com\n",
        "maythefourthwithyiu@starwars.com\n",
        "```\n",
        "\n",
        "**應配對出的結果為**\n",
        "```\n",
        "SaveTheWorld@hotmail.com\n",
        "zzzGroup@yahoo.com\n",
        "maythefourthwithyiu@starwars.com\n",
        "```\n"
      ]
    },
    {
      "cell_type": "markdown",
      "metadata": {
        "id": "_hc1BwYginJk"
      },
      "source": [
        "# (?<=<)(\\w+)\n"
      ]
    },
    {
      "cell_type": "markdown",
      "metadata": {
        "id": "peEQ7rNkED2P"
      },
      "source": [
        "### HW4: HTML格式配對\n",
        "\n",
        "請抓出<TAG>當中的Tag就好，裡面的屬性請排除。\n",
        "\n",
        "```\n",
        "ex: <p class='test'> --> 抓出 p\n",
        "```\n",
        "\n",
        "**所需配對文本:**\n",
        "```\n",
        "<h1>This is a header 1</h1>\n",
        "<a>This is a hyperlink</a>\n",
        "<div class='test'>This is a text block</div>\n",
        "<a href=\"https://regexisfun.com.tw/\">Learning Regular Expression<a>\n",
        "```\n",
        "\n",
        "**應配對出的結果為**\n",
        "```\n",
        "h1\n",
        "a\n",
        "div\n",
        "a\n",
        "a\n",
        "```"
      ]
    },
    {
      "cell_type": "markdown",
      "metadata": {
        "id": "mS6Sz2Nwjt8e"
      },
      "source": [
        "# (?<=<)(\\w+)"
      ]
    },
    {
      "cell_type": "markdown",
      "metadata": {
        "id": "meXn3nd3ED2Q"
      },
      "source": [
        "### HW5: 特定檔案名稱與格式配對\n",
        "\n",
        "在所有檔案中，抓出屬於 gif 或 jpg 的檔名。\n",
        "\n",
        "\n",
        "**所需配對文本:**\n",
        "```\n",
        ".bash_profile\n",
        "workShop.ai\n",
        "file_folderName_num.jpg\n",
        "favicon.png\n",
        "IMG_002.png\n",
        "IMG_003.gif\n",
        "qoo.jpg.tmp\n",
        "index.html\n",
        "foobar.bmp\n",
        "foobar.jpg\n",
        "account.html\n",
        "access.lock\n",
        "```\n",
        "\n",
        "**應配對出的結果為**\n",
        "```\n",
        "IMG_003.gif\n",
        "file_folderName_num.jpg\n",
        "foobar.jpg\n",
        "```"
      ]
    },
    {
      "cell_type": "markdown",
      "metadata": {
        "id": "XyDKh0tHkAPJ"
      },
      "source": [
        "# (\\w+)\\.(jpg|gif)\\n\n",
        "\n",
        "```\n",
        "\n"
      ]
    },
    {
      "cell_type": "markdown",
      "metadata": {
        "id": "k_bxKVCEED2S"
      },
      "source": [
        "### HW6: URL配對\n",
        "\n",
        "請抓出 Url 中的協定方式, 網址, 與埠\n",
        "\n",
        "```\n",
        "ex: Https://localhost:4200/ --> 抓取 Https, localhost, 4200\n",
        "```\n",
        "\n",
        "**所需配對文本:**\n",
        "```\n",
        "ftp://file_server.com:21/account/customers.xml\n",
        "https://hengxiuxu.blogspot.tw/\n",
        "file://localhost:4200\n",
        "https://s3cur3-server.com:9999/\n",
        "```\n",
        "\n",
        "**應配對出的結果為**\n",
        "```\n",
        "ftp, file_server, 21\n",
        "https, hengxiuxu.blogspot.tw\n",
        "file, localhost, 4200  #<== 只有這個\n",
        "https, s3cur3-server.com, 9999\n",
        "```"
      ]
    },
    {
      "cell_type": "markdown",
      "metadata": {
        "id": "ojYKcqMfkQLA"
      },
      "source": [
        "# (\\w+):\\/\\/([^:\\/]+):?(\\d+)?\n"
      ]
    },
    {
      "cell_type": "markdown",
      "metadata": {
        "id": "rt2Qad3UkM5w"
      },
      "source": [
        "沒事練習"
      ]
    },
    {
      "cell_type": "code",
      "metadata": {
        "id": "MUZWslZIED2U"
      },
      "source": [
        "import re\n",
        " \n",
        "line = \"Cats are smarter than dogs\"\n",
        " \n",
        "x = re.match( r'a', line)\n",
        "x"
      ],
      "execution_count": 4,
      "outputs": []
    },
    {
      "cell_type": "code",
      "metadata": {
        "id": "JQfnzYwNafGU",
        "outputId": "56f3d5bc-3a48-40db-8195-bdeb078d87da",
        "colab": {
          "base_uri": "https://localhost:8080/"
        }
      },
      "source": [
        "\n",
        "import re\n",
        "\n",
        "regex = r\"This\"\n",
        "\n",
        "test_str = \"This module provides regular expression matching operations similar to those found in Perl.\"\n",
        "\n",
        "matches = re.finditer(regex, test_str, re.MULTILINE)\n",
        "\n",
        "for matchNum, match in enumerate(matches, start=1):\n",
        "    \n",
        "    print (\"Match {matchNum} was found at {start}-{end}: {match}\".format(matchNum = matchNum, start = match.start(), end = match.end(), match = match.group()))\n",
        "    \n",
        "    for groupNum in range(0, len(match.groups())):\n",
        "        groupNum = groupNum + 1\n",
        "        \n",
        "        print (\"Group {groupNum} found at {start}-{end}: {group}\".format(groupNum = groupNum, start = match.start(groupNum), end = match.end(groupNum), group = match.group(groupNum)))"
      ],
      "execution_count": 9,
      "outputs": [
        {
          "output_type": "stream",
          "text": [
            "Match 1 was found at 0-4: This\n"
          ],
          "name": "stdout"
        }
      ]
    }
  ]
}