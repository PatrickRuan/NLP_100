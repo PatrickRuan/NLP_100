{
  "nbformat": 4,
  "nbformat_minor": 0,
  "metadata": {
    "kernelspec": {
      "display_name": "Python 3",
      "language": "python",
      "name": "python3"
    },
    "language_info": {
      "codemirror_mode": {
        "name": "ipython",
        "version": 3
      },
      "file_extension": ".py",
      "mimetype": "text/x-python",
      "name": "python",
      "nbconvert_exporter": "python",
      "pygments_lexer": "ipython3",
      "version": "3.7.4"
    },
    "colab": {
      "name": "Day15- tfidf作業.ipynb",
      "provenance": [],
      "collapsed_sections": [],
      "include_colab_link": true
    }
  },
  "cells": [
    {
      "cell_type": "markdown",
      "metadata": {
        "id": "view-in-github",
        "colab_type": "text"
      },
      "source": [
        "<a href=\"https://colab.research.google.com/github/PatrickRuan/NLP_100/blob/main/homework/Day015_tfidf%E4%BD%9C%E6%A5%AD.ipynb\" target=\"_parent\"><img src=\"https://colab.research.google.com/assets/colab-badge.svg\" alt=\"Open In Colab\"/></a>"
      ]
    },
    {
      "cell_type": "markdown",
      "metadata": {
        "id": "RoXh0zKLbp_6"
      },
      "source": [
        "## 作業目標：搭建一個TFIDF 模型"
      ]
    },
    {
      "cell_type": "markdown",
      "metadata": {
        "id": "f0d5VCr1bp_7"
      },
      "source": [
        "---"
      ]
    },
    {
      "cell_type": "markdown",
      "metadata": {
        "id": "UXhWmkXtbp_7"
      },
      "source": [
        "#### Reference:https://towardsdatascience.com/natural-language-processing-feature-engineering-using-tf-idf-e8b9d00e7e76"
      ]
    },
    {
      "cell_type": "code",
      "metadata": {
        "id": "rmYVv5_6bp_7"
      },
      "source": [
        "import nltk\n",
        "documentA = 'the man went out for a walk'\n",
        "documentB = 'the children sat around the fire'"
      ],
      "execution_count": 1,
      "outputs": []
    },
    {
      "cell_type": "markdown",
      "metadata": {
        "id": "yXrCzxlLbp_8"
      },
      "source": [
        "## 首先我們做tokenize，並取出所有文件中的單詞"
      ]
    },
    {
      "cell_type": "code",
      "metadata": {
        "colab": {
          "base_uri": "https://localhost:8080/"
        },
        "id": "ybo8O7-sbp_8",
        "outputId": "020aefdb-cbb1-463f-8c5b-c0e4ea4e59ff"
      },
      "source": [
        "nltk.download('punkt')\n",
        "tokenize_A = nltk.word_tokenize(documentA)\n",
        "tokenize_B = nltk.word_tokenize(documentB)\n",
        "\n",
        "uniqueWords = set(tokenize_A).union(set(tokenize_B)) ##所有文件中的單詞"
      ],
      "execution_count": 2,
      "outputs": [
        {
          "output_type": "stream",
          "text": [
            "[nltk_data] Downloading package punkt to /root/nltk_data...\n",
            "[nltk_data]   Unzipping tokenizers/punkt.zip.\n"
          ],
          "name": "stdout"
        }
      ]
    },
    {
      "cell_type": "code",
      "metadata": {
        "colab": {
          "base_uri": "https://localhost:8080/"
        },
        "id": "otsA_HlBivSj",
        "outputId": "051c4ced-0f9c-4782-9fe0-5fb1b94db75a"
      },
      "source": [
        "print(type(uniqueWords))\n",
        "dict.fromkeys(uniqueWords, 0) #<== from set become dictionary, and with 0 values, it also works at giving string"
      ],
      "execution_count": 3,
      "outputs": [
        {
          "output_type": "stream",
          "text": [
            "<class 'set'>\n"
          ],
          "name": "stdout"
        },
        {
          "output_type": "execute_result",
          "data": {
            "text/plain": [
              "{'a': 0,\n",
              " 'around': 0,\n",
              " 'children': 0,\n",
              " 'fire': 0,\n",
              " 'for': 0,\n",
              " 'man': 0,\n",
              " 'out': 0,\n",
              " 'sat': 0,\n",
              " 'the': 0,\n",
              " 'walk': 0,\n",
              " 'went': 0}"
            ]
          },
          "metadata": {
            "tags": []
          },
          "execution_count": 3
        }
      ]
    },
    {
      "cell_type": "markdown",
      "metadata": {
        "id": "R8cXIBE5bp_8"
      },
      "source": [
        "## 計算每個文件中，所有uniqueWords出現的次數"
      ]
    },
    {
      "cell_type": "code",
      "metadata": {
        "id": "IP5dw9WBbp_8"
      },
      "source": [
        "numOfWordsA = dict.fromkeys(uniqueWords, 0)\n",
        "for word in tokenize_A:\n",
        "    numOfWordsA[word] += 1\n",
        "numOfWordsB = dict.fromkeys(uniqueWords, 0)\n",
        "for word in tokenize_B:\n",
        "    numOfWordsB[word] += 1"
      ],
      "execution_count": 4,
      "outputs": []
    },
    {
      "cell_type": "code",
      "metadata": {
        "colab": {
          "base_uri": "https://localhost:8080/"
        },
        "id": "fnTjHUlrbp_8",
        "outputId": "03d072d8-8589-453e-96b7-4900e05390cb"
      },
      "source": [
        "numOfWordsA "
      ],
      "execution_count": 5,
      "outputs": [
        {
          "output_type": "execute_result",
          "data": {
            "text/plain": [
              "{'a': 1,\n",
              " 'around': 0,\n",
              " 'children': 0,\n",
              " 'fire': 0,\n",
              " 'for': 1,\n",
              " 'man': 1,\n",
              " 'out': 1,\n",
              " 'sat': 0,\n",
              " 'the': 1,\n",
              " 'walk': 1,\n",
              " 'went': 1}"
            ]
          },
          "metadata": {
            "tags": []
          },
          "execution_count": 5
        }
      ]
    },
    {
      "cell_type": "code",
      "metadata": {
        "colab": {
          "base_uri": "https://localhost:8080/"
        },
        "id": "qatpcEZvbp_9",
        "outputId": "5a1da496-150b-4740-8715-3a5310a14e4d"
      },
      "source": [
        "numOfWordsB"
      ],
      "execution_count": 6,
      "outputs": [
        {
          "output_type": "execute_result",
          "data": {
            "text/plain": [
              "{'a': 0,\n",
              " 'around': 1,\n",
              " 'children': 1,\n",
              " 'fire': 1,\n",
              " 'for': 0,\n",
              " 'man': 0,\n",
              " 'out': 0,\n",
              " 'sat': 1,\n",
              " 'the': 2,\n",
              " 'walk': 0,\n",
              " 'went': 0}"
            ]
          },
          "metadata": {
            "tags": []
          },
          "execution_count": 6
        }
      ]
    },
    {
      "cell_type": "markdown",
      "metadata": {
        "id": "GRRIJdiBbp_9"
      },
      "source": [
        "## 定義function:計算TF\n",
        "### 使用實例 \n",
        "```\n",
        "tfA = computeTF(numOfWordsA, tokenize_A)\n",
        "```\n",
        "\n"
      ]
    },
    {
      "cell_type": "code",
      "metadata": {
        "colab": {
          "base_uri": "https://localhost:8080/"
        },
        "id": "eS_-nVCdjc7h",
        "outputId": "6f7d39af-5a79-4c40-8712-bac875624da9"
      },
      "source": [
        "print(tokenize_A) # ['the', 'man', 'went', 'out', 'for', 'a', 'walk']\n",
        "print(numOfWordsA) # {'children': 0, 'out': 1, 'sat': 0, 'for': 1, 'around': 0, 'the': 1, 'man': 1, 'a': 1, 'fire': 0, 'walk': 1, 'went': 1}\n"
      ],
      "execution_count": 7,
      "outputs": [
        {
          "output_type": "stream",
          "text": [
            "['the', 'man', 'went', 'out', 'for', 'a', 'walk']\n",
            "{'man': 1, 'children': 0, 'a': 1, 'around': 0, 'sat': 0, 'out': 1, 'for': 1, 'fire': 0, 'the': 1, 'walk': 1, 'went': 1}\n"
          ],
          "name": "stdout"
        }
      ]
    },
    {
      "cell_type": "code",
      "metadata": {
        "id": "jI4VesyUbp_9"
      },
      "source": [
        "def computeTF(wordDict, tokenize_item):\n",
        "    \"\"\"\n",
        "    wordDict : 文件內單詞對應出現數量的字典\n",
        "    tokenize_item : 文件tokenize後的輸出\n",
        "    \"\"\"\n",
        "    tfDict = {}\n",
        "\n",
        "    bagOfWordsCount = len(tokenize_item) ## tokenize_item單詞數量\n",
        "    print(bagOfWordsCount)\n",
        "    for word, count in wordDict.items(): # 不用擔心重複的，word 被萃取出來後，下一行的計算是根據 dictionary 的資訊\n",
        "        tfDict[word] = count / bagOfWordsCount ##單詞在該文件出現的次數/該文件擁有的所有單詞數量\n",
        "    return tfDict"
      ],
      "execution_count": 8,
      "outputs": []
    },
    {
      "cell_type": "markdown",
      "metadata": {
        "id": "2eisEEUJbp_9"
      },
      "source": [
        "## 定義function:計算IDF\n",
        "\n",
        "### 實例應用\n",
        "\n",
        "\n",
        "```\n",
        "idfs = computeIDF([numOfWordsA, numOfWordsB])\n",
        "\n",
        "```"
      ]
    },
    {
      "cell_type": "code",
      "metadata": {
        "colab": {
          "base_uri": "https://localhost:8080/"
        },
        "id": "AwfcFUwCrXvG",
        "outputId": "37af106c-4f13-4b94-a9f9-7cfca0dcc95a"
      },
      "source": [
        "import math\n",
        "N = len([numOfWordsA, numOfWordsB])\n",
        "    \n",
        "idfDict = dict.fromkeys([numOfWordsA, numOfWordsB][0].keys(), 0) # 不論是documentsDict[?]中的numOfWordsA, numOfWordsB哪一個字典，都有所有的 keys \n",
        "#print(idfDict)\n",
        "k = 0\n",
        "for document in [numOfWordsA, numOfWordsB]: #doc A or doc b\n",
        "  #{'children': 0, 'out': 1, 'sat': 0, 'for': 1, 'around': 0, 'the': 1, 'man': 1, 'a': 1, 'fire': 0, 'walk': 1, 'went': 1}\n",
        "  #{'children': 1, 'out': 0, 'sat': 1, 'for': 0, 'around': 1, 'the': 2, 'man': 0, 'a': 0, 'fire': 1, 'walk': 0, 'went': 0}\n",
        "  for word, val in document.items(): \n",
        "    #print(word, val)\n",
        "  #numOfWordsA.items():  dict_items([('children', 0), ('out', 1), ('sat', 0), ('for', 1), ('around', 0), ('the', 1), ('man', 1), ('a', 1), ('fire', 0), ('walk', 1), ('went', 1)])\n",
        "    if val > 0:\n",
        "      idfDict[word] += 1 ## 計算單詞在多少文件中出現過\n",
        "  print(idfDict)  \n",
        "  #{'children': 0, 'out': 1, 'sat': 0, 'for': 1, 'around': 0, 'the': 1, 'man': 1, 'a': 1, 'fire': 0, 'walk': 1, 'went': 1}\n",
        "  #{'children': 1, 'out': 1, 'sat': 1, 'for': 1, 'around': 1, 'the': 2, 'man': 1, 'a': 1, 'fire': 1, 'walk': 1, 'went': 1}\n",
        "print(idfDict) \n",
        "  #{'children': 1, 'out': 1, 'sat': 1, 'for': 1, 'around': 1, 'the': 2, 'man': 1, 'a': 1, 'fire': 1, 'walk': 1, 'went': 1}\n",
        "\n",
        "for word, val in idfDict.items():\n",
        "  idfDict[word] =  math.log(N / float(val)) ## 計算IDF，Log (所有文件的數目/包含這個單詞的文件數目)\n",
        "\n",
        "\n"
      ],
      "execution_count": 9,
      "outputs": [
        {
          "output_type": "stream",
          "text": [
            "{'man': 1, 'children': 0, 'a': 1, 'around': 0, 'sat': 0, 'out': 1, 'for': 1, 'fire': 0, 'the': 1, 'walk': 1, 'went': 1}\n",
            "{'man': 1, 'children': 1, 'a': 1, 'around': 1, 'sat': 1, 'out': 1, 'for': 1, 'fire': 1, 'the': 2, 'walk': 1, 'went': 1}\n",
            "{'man': 1, 'children': 1, 'a': 1, 'around': 1, 'sat': 1, 'out': 1, 'for': 1, 'fire': 1, 'the': 2, 'walk': 1, 'went': 1}\n"
          ],
          "name": "stdout"
        }
      ]
    },
    {
      "cell_type": "code",
      "metadata": {
        "id": "y8M7rU8Kbp_9"
      },
      "source": [
        "def computeIDF(documentsDict):\n",
        "    \"\"\"\n",
        "    documentsDict:為一個list，包含所有文件的wordDict\n",
        "    \"\"\"\n",
        "    import math\n",
        "    N = len(documentsDict)\n",
        "    \n",
        "    idfDict = dict.fromkeys(documentsDict[0].keys(), 0) # 不論是documentsDict[?]中的numOfWordsA, numOfWordsB哪一個字典，都有所有的 keys \n",
        "    print(idfDict)\n",
        "    for document in documentsDict: #doc A or doc b\n",
        "        for word, val in document.items(): \n",
        "        #numOfWordsA.items():  dict_items([('children', 0), ('out', 1), ('sat', 0), ('for', 1), ('around', 0), ('the', 1), ('man', 1), ('a', 1), ('fire', 0), ('walk', 1), ('went', 1)])\n",
        "            if val > 0:\n",
        "                idfDict[word] += 1 ## 計算單詞在多少文件中出現過\n",
        "    \n",
        "    for word, val in idfDict.items():\n",
        "        idfDict[word] =  math.log(N / float(val)) ## 計算IDF，Log (所有文件的數目/包含這個單詞的文件數目)\n",
        "    return idfDict"
      ],
      "execution_count": 10,
      "outputs": []
    },
    {
      "cell_type": "markdown",
      "metadata": {
        "id": "JM6BlhnJbp_9"
      },
      "source": [
        "## 定義function:計算TFIDF\n",
        "\n",
        "\n"
      ]
    },
    {
      "cell_type": "code",
      "metadata": {
        "id": "g6nSmCj-bp_9"
      },
      "source": [
        "\n",
        "def computeTFIDF(tf_item, idfs):\n",
        "    tfidf = {}\n",
        "    for word, val in tf_item.items():\n",
        "        tfidf[word] = val * idfs[word]\n",
        "    return tfidf\n",
        "\n"
      ],
      "execution_count": 11,
      "outputs": []
    },
    {
      "cell_type": "code",
      "metadata": {
        "colab": {
          "base_uri": "https://localhost:8080/"
        },
        "id": "KaYuQAIUbp_9",
        "outputId": "07916458-0a5b-472f-c4b5-5e6d991b115a"
      },
      "source": [
        "tfA = computeTF(numOfWordsA, tokenize_A)\n",
        "tfB = computeTF(numOfWordsB, tokenize_B)\n",
        "\n",
        "idfs = computeIDF([numOfWordsA, numOfWordsB])\n",
        "\n",
        "\n",
        "tfidfA = computeTFIDF(tfA, idfs)\n",
        "tfidfB = computeTFIDF(tfB, idfs)"
      ],
      "execution_count": 12,
      "outputs": [
        {
          "output_type": "stream",
          "text": [
            "7\n",
            "6\n",
            "{'man': 0, 'children': 0, 'a': 0, 'around': 0, 'sat': 0, 'out': 0, 'for': 0, 'fire': 0, 'the': 0, 'walk': 0, 'went': 0}\n"
          ],
          "name": "stdout"
        }
      ]
    },
    {
      "cell_type": "code",
      "metadata": {
        "colab": {
          "base_uri": "https://localhost:8080/"
        },
        "id": "Es5sri7cbp_9",
        "outputId": "d7078021-b3df-4d73-ce85-a145cbf8bf00"
      },
      "source": [
        "tfidfA"
      ],
      "execution_count": 13,
      "outputs": [
        {
          "output_type": "execute_result",
          "data": {
            "text/plain": [
              "{'a': 0.09902102579427789,\n",
              " 'around': 0.0,\n",
              " 'children': 0.0,\n",
              " 'fire': 0.0,\n",
              " 'for': 0.09902102579427789,\n",
              " 'man': 0.09902102579427789,\n",
              " 'out': 0.09902102579427789,\n",
              " 'sat': 0.0,\n",
              " 'the': 0.0,\n",
              " 'walk': 0.09902102579427789,\n",
              " 'went': 0.09902102579427789}"
            ]
          },
          "metadata": {
            "tags": []
          },
          "execution_count": 13
        }
      ]
    },
    {
      "cell_type": "code",
      "metadata": {
        "colab": {
          "base_uri": "https://localhost:8080/"
        },
        "id": "g793Gukhbp_-",
        "outputId": "ff0e2c42-5ee7-4f20-e076-e53069c71e80"
      },
      "source": [
        "tfidfB"
      ],
      "execution_count": 14,
      "outputs": [
        {
          "output_type": "execute_result",
          "data": {
            "text/plain": [
              "{'a': 0.0,\n",
              " 'around': 0.11552453009332421,\n",
              " 'children': 0.11552453009332421,\n",
              " 'fire': 0.11552453009332421,\n",
              " 'for': 0.0,\n",
              " 'man': 0.0,\n",
              " 'out': 0.0,\n",
              " 'sat': 0.11552453009332421,\n",
              " 'the': 0.0,\n",
              " 'walk': 0.0,\n",
              " 'went': 0.0}"
            ]
          },
          "metadata": {
            "tags": []
          },
          "execution_count": 14
        }
      ]
    }
  ]
}